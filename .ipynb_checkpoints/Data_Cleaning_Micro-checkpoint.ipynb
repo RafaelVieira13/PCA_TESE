{
 "cells": [
  {
   "cell_type": "code",
   "execution_count": 1,
   "id": "b1516371",
   "metadata": {},
   "outputs": [],
   "source": [
    "import pandas as pd\n",
    "import numpy as np"
   ]
  },
  {
   "cell_type": "markdown",
   "id": "3e6e010b",
   "metadata": {},
   "source": [
    "# E.Coli Data"
   ]
  },
  {
   "cell_type": "code",
   "execution_count": 2,
   "id": "b364a577",
   "metadata": {},
   "outputs": [
    {
     "data": {
      "text/html": [
       "<div>\n",
       "<style scoped>\n",
       "    .dataframe tbody tr th:only-of-type {\n",
       "        vertical-align: middle;\n",
       "    }\n",
       "\n",
       "    .dataframe tbody tr th {\n",
       "        vertical-align: top;\n",
       "    }\n",
       "\n",
       "    .dataframe thead th {\n",
       "        text-align: right;\n",
       "    }\n",
       "</style>\n",
       "<table border=\"1\" class=\"dataframe\">\n",
       "  <thead>\n",
       "    <tr style=\"text-align: right;\">\n",
       "      <th></th>\n",
       "      <th>No  Amostra</th>\n",
       "      <th>Data colheita</th>\n",
       "      <th>Zona de_x000D_produção</th>\n",
       "      <th>Local</th>\n",
       "      <th>Espécie</th>\n",
       "      <th>E. coli  (NMP/100 g)</th>\n",
       "      <th>O conteúdo deste documento é protegido por Direitos de Autor e Direitos Conexos e Direitos de</th>\n",
       "      <th>No_x000D_Amostra</th>\n",
       "      <th>Data entrada</th>\n",
       "      <th>Data início_x000D_ensaio</th>\n",
       "      <th>...</th>\n",
       "      <th>187</th>\n",
       "      <th>13‐11‐2013</th>\n",
       "      <th>13‐11‐2013.1</th>\n",
       "      <th>13‐11‐2013.2</th>\n",
       "      <th>TAV1</th>\n",
       "      <th>Lacem</th>\n",
       "      <th>Amêijoa‐boa</th>\n",
       "      <th>490</th>\n",
       "      <th>2013</th>\n",
       "      <th>E. coli_x000D_(NMP/10</th>\n",
       "    </tr>\n",
       "  </thead>\n",
       "  <tbody>\n",
       "    <tr>\n",
       "      <th>0</th>\n",
       "      <td>256 /20</td>\n",
       "      <td>06/04/20</td>\n",
       "      <td>ETJ</td>\n",
       "      <td>Ponta dos Corvos</td>\n",
       "      <td>Amêijoa-japonesa</td>\n",
       "      <td>13000</td>\n",
       "      <td>NaN</td>\n",
       "      <td>NaN</td>\n",
       "      <td>NaN</td>\n",
       "      <td>NaN</td>\n",
       "      <td>...</td>\n",
       "      <td>NaN</td>\n",
       "      <td>NaN</td>\n",
       "      <td>NaN</td>\n",
       "      <td>NaN</td>\n",
       "      <td>NaN</td>\n",
       "      <td>NaN</td>\n",
       "      <td>NaN</td>\n",
       "      <td>NaN</td>\n",
       "      <td>NaN</td>\n",
       "      <td>NaN</td>\n",
       "    </tr>\n",
       "    <tr>\n",
       "      <th>1</th>\n",
       "      <td>257 /20</td>\n",
       "      <td>06/04/20</td>\n",
       "      <td>ETJ</td>\n",
       "      <td>Ponta dos Corvos</td>\n",
       "      <td>Berbigão</td>\n",
       "      <td>2300</td>\n",
       "      <td>NaN</td>\n",
       "      <td>NaN</td>\n",
       "      <td>NaN</td>\n",
       "      <td>NaN</td>\n",
       "      <td>...</td>\n",
       "      <td>NaN</td>\n",
       "      <td>NaN</td>\n",
       "      <td>NaN</td>\n",
       "      <td>NaN</td>\n",
       "      <td>NaN</td>\n",
       "      <td>NaN</td>\n",
       "      <td>NaN</td>\n",
       "      <td>NaN</td>\n",
       "      <td>NaN</td>\n",
       "      <td>NaN</td>\n",
       "    </tr>\n",
       "    <tr>\n",
       "      <th>2</th>\n",
       "      <td>259 /20</td>\n",
       "      <td>06/04/20</td>\n",
       "      <td>LAL</td>\n",
       "      <td>Jangada</td>\n",
       "      <td>Mexilhão</td>\n",
       "      <td>&lt;18</td>\n",
       "      <td>NaN</td>\n",
       "      <td>NaN</td>\n",
       "      <td>NaN</td>\n",
       "      <td>NaN</td>\n",
       "      <td>...</td>\n",
       "      <td>NaN</td>\n",
       "      <td>NaN</td>\n",
       "      <td>NaN</td>\n",
       "      <td>NaN</td>\n",
       "      <td>NaN</td>\n",
       "      <td>NaN</td>\n",
       "      <td>NaN</td>\n",
       "      <td>NaN</td>\n",
       "      <td>NaN</td>\n",
       "      <td>NaN</td>\n",
       "    </tr>\n",
       "    <tr>\n",
       "      <th>3</th>\n",
       "      <td>260 /20</td>\n",
       "      <td>06/04/20</td>\n",
       "      <td>LAL</td>\n",
       "      <td>Lagoa</td>\n",
       "      <td>Berbigão</td>\n",
       "      <td>20</td>\n",
       "      <td>NaN</td>\n",
       "      <td>NaN</td>\n",
       "      <td>NaN</td>\n",
       "      <td>NaN</td>\n",
       "      <td>...</td>\n",
       "      <td>NaN</td>\n",
       "      <td>NaN</td>\n",
       "      <td>NaN</td>\n",
       "      <td>NaN</td>\n",
       "      <td>NaN</td>\n",
       "      <td>NaN</td>\n",
       "      <td>NaN</td>\n",
       "      <td>NaN</td>\n",
       "      <td>NaN</td>\n",
       "      <td>NaN</td>\n",
       "    </tr>\n",
       "    <tr>\n",
       "      <th>4</th>\n",
       "      <td>272 /20</td>\n",
       "      <td>14/04/20</td>\n",
       "      <td>LOB</td>\n",
       "      <td>Greijau</td>\n",
       "      <td>Amêijoa-macha</td>\n",
       "      <td>45</td>\n",
       "      <td>NaN</td>\n",
       "      <td>NaN</td>\n",
       "      <td>NaN</td>\n",
       "      <td>NaN</td>\n",
       "      <td>...</td>\n",
       "      <td>NaN</td>\n",
       "      <td>NaN</td>\n",
       "      <td>NaN</td>\n",
       "      <td>NaN</td>\n",
       "      <td>NaN</td>\n",
       "      <td>NaN</td>\n",
       "      <td>NaN</td>\n",
       "      <td>NaN</td>\n",
       "      <td>NaN</td>\n",
       "      <td>NaN</td>\n",
       "    </tr>\n",
       "    <tr>\n",
       "      <th>...</th>\n",
       "      <td>...</td>\n",
       "      <td>...</td>\n",
       "      <td>...</td>\n",
       "      <td>...</td>\n",
       "      <td>...</td>\n",
       "      <td>...</td>\n",
       "      <td>...</td>\n",
       "      <td>...</td>\n",
       "      <td>...</td>\n",
       "      <td>...</td>\n",
       "      <td>...</td>\n",
       "      <td>...</td>\n",
       "      <td>...</td>\n",
       "      <td>...</td>\n",
       "      <td>...</td>\n",
       "      <td>...</td>\n",
       "      <td>...</td>\n",
       "      <td>...</td>\n",
       "      <td>...</td>\n",
       "      <td>...</td>\n",
       "      <td>...</td>\n",
       "    </tr>\n",
       "    <tr>\n",
       "      <th>9404</th>\n",
       "      <td>430/2019</td>\n",
       "      <td>24/09/2019</td>\n",
       "      <td>L7b</td>\n",
       "      <td>Sagres</td>\n",
       "      <td>Ostra-gigante/japonesa</td>\n",
       "      <td>230</td>\n",
       "      <td>NaN</td>\n",
       "      <td>NaN</td>\n",
       "      <td>24/09/2019</td>\n",
       "      <td>24/09/2019</td>\n",
       "      <td>...</td>\n",
       "      <td>NaN</td>\n",
       "      <td>NaN</td>\n",
       "      <td>NaN</td>\n",
       "      <td>NaN</td>\n",
       "      <td>NaN</td>\n",
       "      <td>NaN</td>\n",
       "      <td>NaN</td>\n",
       "      <td>NaN</td>\n",
       "      <td>NaN</td>\n",
       "      <td>NaN</td>\n",
       "    </tr>\n",
       "    <tr>\n",
       "      <th>9405</th>\n",
       "      <td>431/2019</td>\n",
       "      <td>30/09/2019</td>\n",
       "      <td>OLH2</td>\n",
       "      <td>Fortaleza</td>\n",
       "      <td>Amêijoa-boa</td>\n",
       "      <td>92</td>\n",
       "      <td>NaN</td>\n",
       "      <td>NaN</td>\n",
       "      <td>30/09/2019</td>\n",
       "      <td>30/09/2019</td>\n",
       "      <td>...</td>\n",
       "      <td>NaN</td>\n",
       "      <td>NaN</td>\n",
       "      <td>NaN</td>\n",
       "      <td>NaN</td>\n",
       "      <td>NaN</td>\n",
       "      <td>NaN</td>\n",
       "      <td>NaN</td>\n",
       "      <td>NaN</td>\n",
       "      <td>NaN</td>\n",
       "      <td>NaN</td>\n",
       "    </tr>\n",
       "    <tr>\n",
       "      <th>9406</th>\n",
       "      <td>432/2019</td>\n",
       "      <td>30/09/2019</td>\n",
       "      <td>OLH2</td>\n",
       "      <td>Fortaleza</td>\n",
       "      <td>Ostra-gigante/japonesa</td>\n",
       "      <td>&lt;18</td>\n",
       "      <td>NaN</td>\n",
       "      <td>NaN</td>\n",
       "      <td>30/09/2019</td>\n",
       "      <td>30/09/2019</td>\n",
       "      <td>...</td>\n",
       "      <td>NaN</td>\n",
       "      <td>NaN</td>\n",
       "      <td>NaN</td>\n",
       "      <td>NaN</td>\n",
       "      <td>NaN</td>\n",
       "      <td>NaN</td>\n",
       "      <td>NaN</td>\n",
       "      <td>NaN</td>\n",
       "      <td>NaN</td>\n",
       "      <td>NaN</td>\n",
       "    </tr>\n",
       "    <tr>\n",
       "      <th>9407</th>\n",
       "      <td>433/2019</td>\n",
       "      <td>30/09/2019</td>\n",
       "      <td>OLH2</td>\n",
       "      <td>Forlaleza - Cabeço da Barrinha</td>\n",
       "      <td>Amêijoa-boa</td>\n",
       "      <td>110</td>\n",
       "      <td>NaN</td>\n",
       "      <td>NaN</td>\n",
       "      <td>30/09/2019</td>\n",
       "      <td>30/09/2019</td>\n",
       "      <td>...</td>\n",
       "      <td>NaN</td>\n",
       "      <td>NaN</td>\n",
       "      <td>NaN</td>\n",
       "      <td>NaN</td>\n",
       "      <td>NaN</td>\n",
       "      <td>NaN</td>\n",
       "      <td>NaN</td>\n",
       "      <td>NaN</td>\n",
       "      <td>NaN</td>\n",
       "      <td>NaN</td>\n",
       "    </tr>\n",
       "    <tr>\n",
       "      <th>9408</th>\n",
       "      <td>434/2019</td>\n",
       "      <td>30/09/2019</td>\n",
       "      <td>OLH2</td>\n",
       "      <td>Forlaleza - Cabeço da Barrinha</td>\n",
       "      <td>Ostra-gigante/japonesa</td>\n",
       "      <td>45</td>\n",
       "      <td>NaN</td>\n",
       "      <td>NaN</td>\n",
       "      <td>30/09/2019</td>\n",
       "      <td>30/09/2019</td>\n",
       "      <td>...</td>\n",
       "      <td>NaN</td>\n",
       "      <td>NaN</td>\n",
       "      <td>NaN</td>\n",
       "      <td>NaN</td>\n",
       "      <td>NaN</td>\n",
       "      <td>NaN</td>\n",
       "      <td>NaN</td>\n",
       "      <td>NaN</td>\n",
       "      <td>NaN</td>\n",
       "      <td>NaN</td>\n",
       "    </tr>\n",
       "  </tbody>\n",
       "</table>\n",
       "<p>9409 rows × 104 columns</p>\n",
       "</div>"
      ],
      "text/plain": [
       "     No  Amostra Data colheita Zona de_x000D_produção  \\\n",
       "0        256 /20      06/04/20                    ETJ   \n",
       "1        257 /20      06/04/20                    ETJ   \n",
       "2        259 /20      06/04/20                    LAL   \n",
       "3        260 /20      06/04/20                    LAL   \n",
       "4        272 /20      14/04/20                    LOB   \n",
       "...          ...           ...                    ...   \n",
       "9404    430/2019    24/09/2019                    L7b   \n",
       "9405    431/2019    30/09/2019                   OLH2   \n",
       "9406    432/2019    30/09/2019                   OLH2   \n",
       "9407    433/2019    30/09/2019                   OLH2   \n",
       "9408    434/2019    30/09/2019                   OLH2   \n",
       "\n",
       "                               Local                 Espécie  \\\n",
       "0                   Ponta dos Corvos        Amêijoa-japonesa   \n",
       "1                   Ponta dos Corvos                Berbigão   \n",
       "2                            Jangada                Mexilhão   \n",
       "3                              Lagoa                Berbigão   \n",
       "4                            Greijau           Amêijoa-macha   \n",
       "...                              ...                     ...   \n",
       "9404                          Sagres  Ostra-gigante/japonesa   \n",
       "9405                       Fortaleza             Amêijoa-boa   \n",
       "9406                       Fortaleza  Ostra-gigante/japonesa   \n",
       "9407  Forlaleza - Cabeço da Barrinha             Amêijoa-boa   \n",
       "9408  Forlaleza - Cabeço da Barrinha  Ostra-gigante/japonesa   \n",
       "\n",
       "     E. coli  (NMP/100 g)  \\\n",
       "0                   13000   \n",
       "1                    2300   \n",
       "2                     <18   \n",
       "3                      20   \n",
       "4                      45   \n",
       "...                   ...   \n",
       "9404                  230   \n",
       "9405                   92   \n",
       "9406                  <18   \n",
       "9407                  110   \n",
       "9408                   45   \n",
       "\n",
       "      O conteúdo deste documento é protegido por Direitos de Autor e Direitos Conexos e Direitos de  \\\n",
       "0                                                   NaN                                               \n",
       "1                                                   NaN                                               \n",
       "2                                                   NaN                                               \n",
       "3                                                   NaN                                               \n",
       "4                                                   NaN                                               \n",
       "...                                                 ...                                               \n",
       "9404                                                NaN                                               \n",
       "9405                                                NaN                                               \n",
       "9406                                                NaN                                               \n",
       "9407                                                NaN                                               \n",
       "9408                                                NaN                                               \n",
       "\n",
       "      No_x000D_Amostra Data entrada Data início_x000D_ensaio  ...  187  \\\n",
       "0                  NaN          NaN                      NaN  ...  NaN   \n",
       "1                  NaN          NaN                      NaN  ...  NaN   \n",
       "2                  NaN          NaN                      NaN  ...  NaN   \n",
       "3                  NaN          NaN                      NaN  ...  NaN   \n",
       "4                  NaN          NaN                      NaN  ...  NaN   \n",
       "...                ...          ...                      ...  ...  ...   \n",
       "9404               NaN   24/09/2019               24/09/2019  ...  NaN   \n",
       "9405               NaN   30/09/2019               30/09/2019  ...  NaN   \n",
       "9406               NaN   30/09/2019               30/09/2019  ...  NaN   \n",
       "9407               NaN   30/09/2019               30/09/2019  ...  NaN   \n",
       "9408               NaN   30/09/2019               30/09/2019  ...  NaN   \n",
       "\n",
       "     13‐11‐2013 13‐11‐2013.1 13‐11‐2013.2  TAV1  Lacem  Amêijoa‐boa 490 2013  \\\n",
       "0           NaN          NaN          NaN   NaN    NaN          NaN NaN  NaN   \n",
       "1           NaN          NaN          NaN   NaN    NaN          NaN NaN  NaN   \n",
       "2           NaN          NaN          NaN   NaN    NaN          NaN NaN  NaN   \n",
       "3           NaN          NaN          NaN   NaN    NaN          NaN NaN  NaN   \n",
       "4           NaN          NaN          NaN   NaN    NaN          NaN NaN  NaN   \n",
       "...         ...          ...          ...   ...    ...          ...  ..  ...   \n",
       "9404        NaN          NaN          NaN   NaN    NaN          NaN NaN  NaN   \n",
       "9405        NaN          NaN          NaN   NaN    NaN          NaN NaN  NaN   \n",
       "9406        NaN          NaN          NaN   NaN    NaN          NaN NaN  NaN   \n",
       "9407        NaN          NaN          NaN   NaN    NaN          NaN NaN  NaN   \n",
       "9408        NaN          NaN          NaN   NaN    NaN          NaN NaN  NaN   \n",
       "\n",
       "     E. coli_x000D_(NMP/10  \n",
       "0                      NaN  \n",
       "1                      NaN  \n",
       "2                      NaN  \n",
       "3                      NaN  \n",
       "4                      NaN  \n",
       "...                    ...  \n",
       "9404                   NaN  \n",
       "9405                   NaN  \n",
       "9406                   NaN  \n",
       "9407                   NaN  \n",
       "9408                   NaN  \n",
       "\n",
       "[9409 rows x 104 columns]"
      ]
     },
     "execution_count": 2,
     "metadata": {},
     "output_type": "execute_result"
    }
   ],
   "source": [
    "df = pd.read_excel('C:/Users/Administrador/OneDrive/Ambiente de Trabalho/Article_Organize_Data/combined_df_micro.xlsx')\n",
    "df"
   ]
  },
  {
   "cell_type": "markdown",
   "id": "95dd015a",
   "metadata": {},
   "source": [
    "__Missing Values__"
   ]
  },
  {
   "cell_type": "code",
   "execution_count": 3,
   "id": "8d3f08a0",
   "metadata": {},
   "outputs": [
    {
     "data": {
      "text/plain": [
       "No  Amostra                 0.010628\n",
       "Data colheita               0.000000\n",
       "Zona de_x000D_produção      0.000000\n",
       "Local                       0.138166\n",
       "Espécie                     0.010628\n",
       "                             ...    \n",
       "Lacem                     100.000000\n",
       "Amêijoa‐boa               100.000000\n",
       "490                       100.000000\n",
       "2013                       99.755553\n",
       "E. coli_x000D_(NMP/10     100.000000\n",
       "Length: 104, dtype: float64"
      ]
     },
     "execution_count": 3,
     "metadata": {},
     "output_type": "execute_result"
    }
   ],
   "source": [
    "df.isnull().sum() /df.shape[0]*100"
   ]
  },
  {
   "cell_type": "markdown",
   "id": "26998618",
   "metadata": {},
   "source": [
    "_No Amostra_"
   ]
  },
  {
   "cell_type": "code",
   "execution_count": 4,
   "id": "a9eebe01",
   "metadata": {},
   "outputs": [
    {
     "data": {
      "text/html": [
       "<div>\n",
       "<style scoped>\n",
       "    .dataframe tbody tr th:only-of-type {\n",
       "        vertical-align: middle;\n",
       "    }\n",
       "\n",
       "    .dataframe tbody tr th {\n",
       "        vertical-align: top;\n",
       "    }\n",
       "\n",
       "    .dataframe thead th {\n",
       "        text-align: right;\n",
       "    }\n",
       "</style>\n",
       "<table border=\"1\" class=\"dataframe\">\n",
       "  <thead>\n",
       "    <tr style=\"text-align: right;\">\n",
       "      <th></th>\n",
       "      <th>No  Amostra</th>\n",
       "      <th>Data colheita</th>\n",
       "      <th>Zona de_x000D_produção</th>\n",
       "      <th>Local</th>\n",
       "      <th>Espécie</th>\n",
       "      <th>E. coli  (NMP/100 g)</th>\n",
       "      <th>O conteúdo deste documento é protegido por Direitos de Autor e Direitos Conexos e Direitos de</th>\n",
       "      <th>No_x000D_Amostra</th>\n",
       "      <th>Data entrada</th>\n",
       "      <th>Data início_x000D_ensaio</th>\n",
       "      <th>...</th>\n",
       "      <th>187</th>\n",
       "      <th>13‐11‐2013</th>\n",
       "      <th>13‐11‐2013.1</th>\n",
       "      <th>13‐11‐2013.2</th>\n",
       "      <th>TAV1</th>\n",
       "      <th>Lacem</th>\n",
       "      <th>Amêijoa‐boa</th>\n",
       "      <th>490</th>\n",
       "      <th>2013</th>\n",
       "      <th>E. coli_x000D_(NMP/10</th>\n",
       "    </tr>\n",
       "  </thead>\n",
       "  <tbody>\n",
       "    <tr>\n",
       "      <th>6443</th>\n",
       "      <td>NaN</td>\n",
       "      <td>ensaio</td>\n",
       "      <td>produção</td>\n",
       "      <td>NaN</td>\n",
       "      <td>NaN</td>\n",
       "      <td>(NMP/100g)</td>\n",
       "      <td>NaN</td>\n",
       "      <td>NaN</td>\n",
       "      <td>NaN</td>\n",
       "      <td>NaN</td>\n",
       "      <td>...</td>\n",
       "      <td>NaN</td>\n",
       "      <td>NaN</td>\n",
       "      <td>NaN</td>\n",
       "      <td>NaN</td>\n",
       "      <td>NaN</td>\n",
       "      <td>NaN</td>\n",
       "      <td>NaN</td>\n",
       "      <td>NaN</td>\n",
       "      <td>NaN</td>\n",
       "      <td>NaN</td>\n",
       "    </tr>\n",
       "  </tbody>\n",
       "</table>\n",
       "<p>1 rows × 104 columns</p>\n",
       "</div>"
      ],
      "text/plain": [
       "     No  Amostra Data colheita Zona de_x000D_produção Local Espécie  \\\n",
       "6443         NaN        ensaio               produção   NaN     NaN   \n",
       "\n",
       "     E. coli  (NMP/100 g)  \\\n",
       "6443           (NMP/100g)   \n",
       "\n",
       "      O conteúdo deste documento é protegido por Direitos de Autor e Direitos Conexos e Direitos de  \\\n",
       "6443                                                NaN                                               \n",
       "\n",
       "      No_x000D_Amostra Data entrada Data início_x000D_ensaio  ...  187  \\\n",
       "6443               NaN          NaN                      NaN  ...  NaN   \n",
       "\n",
       "     13‐11‐2013 13‐11‐2013.1 13‐11‐2013.2  TAV1  Lacem  Amêijoa‐boa 490 2013  \\\n",
       "6443        NaN          NaN          NaN   NaN    NaN          NaN NaN  NaN   \n",
       "\n",
       "     E. coli_x000D_(NMP/10  \n",
       "6443                   NaN  \n",
       "\n",
       "[1 rows x 104 columns]"
      ]
     },
     "execution_count": 4,
     "metadata": {},
     "output_type": "execute_result"
    }
   ],
   "source": [
    "df[df['No  Amostra'].isnull()]"
   ]
  },
  {
   "cell_type": "code",
   "execution_count": 5,
   "id": "62125c8b",
   "metadata": {},
   "outputs": [],
   "source": [
    "# Remove missing values in the 'No  Amostra' column\n",
    "df.drop(df[df['No  Amostra'].isnull()].index,inplace=True)\n"
   ]
  },
  {
   "cell_type": "markdown",
   "id": "29e32ecd",
   "metadata": {},
   "source": [
    "_E. coli (NMP/100 g)_"
   ]
  },
  {
   "cell_type": "code",
   "execution_count": 6,
   "id": "2d4938de",
   "metadata": {},
   "outputs": [
    {
     "data": {
      "text/plain": [
       "0"
      ]
     },
     "execution_count": 6,
     "metadata": {},
     "output_type": "execute_result"
    }
   ],
   "source": [
    "# Missing values on the 'E. coli  (NMP/100 g)' column\n",
    "df['E. coli  (NMP/100 g)'].isnull().sum()"
   ]
  },
  {
   "cell_type": "markdown",
   "id": "3efb1190",
   "metadata": {},
   "source": [
    "__Rename Some Columns__"
   ]
  },
  {
   "cell_type": "code",
   "execution_count": 7,
   "id": "544fec07",
   "metadata": {},
   "outputs": [
    {
     "data": {
      "text/plain": [
       "Index(['No  Amostra', 'Data colheita', 'Zona de_x000D_produção', 'Local',\n",
       "       'Espécie', 'E. coli  (NMP/100 g)',\n",
       "       'O conteúdo deste documento é protegido por Direitos de Autor e Direitos Conexos e Direitos de',\n",
       "       'No_x000D_Amostra', 'Data entrada', 'Data início_x000D_ensaio',\n",
       "       ...\n",
       "       '187', '13‐11‐2013', '13‐11‐2013.1', '13‐11‐2013.2', 'TAV1', 'Lacem',\n",
       "       'Amêijoa‐boa', '490', '2013', 'E. coli_x000D_(NMP/10'],\n",
       "      dtype='object', length=104)"
      ]
     },
     "execution_count": 7,
     "metadata": {},
     "output_type": "execute_result"
    }
   ],
   "source": [
    "df.columns"
   ]
  },
  {
   "cell_type": "code",
   "execution_count": 8,
   "id": "e88010cd",
   "metadata": {},
   "outputs": [],
   "source": [
    "df.rename(columns={'No  Amostra':'No Amostra',\n",
    "                   'Data colheita':'Data de Colheita',\n",
    "                  'Zona de_x000D_produção': 'Zona de Produção',\n",
    "                  'E. coli  (NMP/100 g)':'E.coli (NMP/100G)'},inplace=True)"
   ]
  },
  {
   "cell_type": "markdown",
   "id": "092ade26",
   "metadata": {},
   "source": [
    "__Get Just The 'Important' Columns for the Study__"
   ]
  },
  {
   "cell_type": "code",
   "execution_count": 9,
   "id": "7f78996d",
   "metadata": {},
   "outputs": [
    {
     "data": {
      "text/html": [
       "<div>\n",
       "<style scoped>\n",
       "    .dataframe tbody tr th:only-of-type {\n",
       "        vertical-align: middle;\n",
       "    }\n",
       "\n",
       "    .dataframe tbody tr th {\n",
       "        vertical-align: top;\n",
       "    }\n",
       "\n",
       "    .dataframe thead th {\n",
       "        text-align: right;\n",
       "    }\n",
       "</style>\n",
       "<table border=\"1\" class=\"dataframe\">\n",
       "  <thead>\n",
       "    <tr style=\"text-align: right;\">\n",
       "      <th></th>\n",
       "      <th>No Amostra</th>\n",
       "      <th>Data de Colheita</th>\n",
       "      <th>Zona de Produção</th>\n",
       "      <th>Local</th>\n",
       "      <th>Espécie</th>\n",
       "      <th>E.coli (NMP/100G)</th>\n",
       "    </tr>\n",
       "  </thead>\n",
       "  <tbody>\n",
       "    <tr>\n",
       "      <th>0</th>\n",
       "      <td>256 /20</td>\n",
       "      <td>06/04/20</td>\n",
       "      <td>ETJ</td>\n",
       "      <td>Ponta dos Corvos</td>\n",
       "      <td>Amêijoa-japonesa</td>\n",
       "      <td>13000</td>\n",
       "    </tr>\n",
       "    <tr>\n",
       "      <th>1</th>\n",
       "      <td>257 /20</td>\n",
       "      <td>06/04/20</td>\n",
       "      <td>ETJ</td>\n",
       "      <td>Ponta dos Corvos</td>\n",
       "      <td>Berbigão</td>\n",
       "      <td>2300</td>\n",
       "    </tr>\n",
       "    <tr>\n",
       "      <th>2</th>\n",
       "      <td>259 /20</td>\n",
       "      <td>06/04/20</td>\n",
       "      <td>LAL</td>\n",
       "      <td>Jangada</td>\n",
       "      <td>Mexilhão</td>\n",
       "      <td>&lt;18</td>\n",
       "    </tr>\n",
       "    <tr>\n",
       "      <th>3</th>\n",
       "      <td>260 /20</td>\n",
       "      <td>06/04/20</td>\n",
       "      <td>LAL</td>\n",
       "      <td>Lagoa</td>\n",
       "      <td>Berbigão</td>\n",
       "      <td>20</td>\n",
       "    </tr>\n",
       "    <tr>\n",
       "      <th>4</th>\n",
       "      <td>272 /20</td>\n",
       "      <td>14/04/20</td>\n",
       "      <td>LOB</td>\n",
       "      <td>Greijau</td>\n",
       "      <td>Amêijoa-macha</td>\n",
       "      <td>45</td>\n",
       "    </tr>\n",
       "    <tr>\n",
       "      <th>...</th>\n",
       "      <td>...</td>\n",
       "      <td>...</td>\n",
       "      <td>...</td>\n",
       "      <td>...</td>\n",
       "      <td>...</td>\n",
       "      <td>...</td>\n",
       "    </tr>\n",
       "    <tr>\n",
       "      <th>9404</th>\n",
       "      <td>430/2019</td>\n",
       "      <td>24/09/2019</td>\n",
       "      <td>L7b</td>\n",
       "      <td>Sagres</td>\n",
       "      <td>Ostra-gigante/japonesa</td>\n",
       "      <td>230</td>\n",
       "    </tr>\n",
       "    <tr>\n",
       "      <th>9405</th>\n",
       "      <td>431/2019</td>\n",
       "      <td>30/09/2019</td>\n",
       "      <td>OLH2</td>\n",
       "      <td>Fortaleza</td>\n",
       "      <td>Amêijoa-boa</td>\n",
       "      <td>92</td>\n",
       "    </tr>\n",
       "    <tr>\n",
       "      <th>9406</th>\n",
       "      <td>432/2019</td>\n",
       "      <td>30/09/2019</td>\n",
       "      <td>OLH2</td>\n",
       "      <td>Fortaleza</td>\n",
       "      <td>Ostra-gigante/japonesa</td>\n",
       "      <td>&lt;18</td>\n",
       "    </tr>\n",
       "    <tr>\n",
       "      <th>9407</th>\n",
       "      <td>433/2019</td>\n",
       "      <td>30/09/2019</td>\n",
       "      <td>OLH2</td>\n",
       "      <td>Forlaleza - Cabeço da Barrinha</td>\n",
       "      <td>Amêijoa-boa</td>\n",
       "      <td>110</td>\n",
       "    </tr>\n",
       "    <tr>\n",
       "      <th>9408</th>\n",
       "      <td>434/2019</td>\n",
       "      <td>30/09/2019</td>\n",
       "      <td>OLH2</td>\n",
       "      <td>Forlaleza - Cabeço da Barrinha</td>\n",
       "      <td>Ostra-gigante/japonesa</td>\n",
       "      <td>45</td>\n",
       "    </tr>\n",
       "  </tbody>\n",
       "</table>\n",
       "<p>9408 rows × 6 columns</p>\n",
       "</div>"
      ],
      "text/plain": [
       "     No Amostra Data de Colheita Zona de Produção  \\\n",
       "0       256 /20         06/04/20              ETJ   \n",
       "1       257 /20         06/04/20              ETJ   \n",
       "2       259 /20         06/04/20              LAL   \n",
       "3       260 /20         06/04/20              LAL   \n",
       "4       272 /20         14/04/20              LOB   \n",
       "...         ...              ...              ...   \n",
       "9404   430/2019       24/09/2019              L7b   \n",
       "9405   431/2019       30/09/2019             OLH2   \n",
       "9406   432/2019       30/09/2019             OLH2   \n",
       "9407   433/2019       30/09/2019             OLH2   \n",
       "9408   434/2019       30/09/2019             OLH2   \n",
       "\n",
       "                               Local                 Espécie E.coli (NMP/100G)  \n",
       "0                   Ponta dos Corvos        Amêijoa-japonesa             13000  \n",
       "1                   Ponta dos Corvos                Berbigão              2300  \n",
       "2                            Jangada                Mexilhão               <18  \n",
       "3                              Lagoa                Berbigão                20  \n",
       "4                            Greijau           Amêijoa-macha                45  \n",
       "...                              ...                     ...               ...  \n",
       "9404                          Sagres  Ostra-gigante/japonesa               230  \n",
       "9405                       Fortaleza             Amêijoa-boa                92  \n",
       "9406                       Fortaleza  Ostra-gigante/japonesa               <18  \n",
       "9407  Forlaleza - Cabeço da Barrinha             Amêijoa-boa               110  \n",
       "9408  Forlaleza - Cabeço da Barrinha  Ostra-gigante/japonesa                45  \n",
       "\n",
       "[9408 rows x 6 columns]"
      ]
     },
     "execution_count": 9,
     "metadata": {},
     "output_type": "execute_result"
    }
   ],
   "source": [
    "df_micro = df[['No Amostra','Data de Colheita','Zona de Produção','Local','Espécie','E.coli (NMP/100G)']]\n",
    "df_micro"
   ]
  },
  {
   "cell_type": "code",
   "execution_count": 10,
   "id": "a55e8048",
   "metadata": {},
   "outputs": [
    {
     "data": {
      "text/plain": [
       "No Amostra           0.000000\n",
       "Data de Colheita     0.000000\n",
       "Zona de Produção     0.000000\n",
       "Local                0.127551\n",
       "Espécie              0.000000\n",
       "E.coli (NMP/100G)    0.000000\n",
       "dtype: float64"
      ]
     },
     "execution_count": 10,
     "metadata": {},
     "output_type": "execute_result"
    }
   ],
   "source": [
    "# Missing values\n",
    "df_micro.isnull().sum() / df.shape[0] * 100"
   ]
  },
  {
   "cell_type": "markdown",
   "id": "28a6fa9c",
   "metadata": {},
   "source": [
    "## Espécie"
   ]
  },
  {
   "cell_type": "code",
   "execution_count": 11,
   "id": "8d6fc822",
   "metadata": {},
   "outputs": [
    {
     "data": {
      "text/plain": [
       "Amêijoa-boa               1567\n",
       "Mexilhão                  1267\n",
       "Berbigão                  1107\n",
       "Ostra-japonesa/gigante    1046\n",
       "Amêijoa-branca             541\n",
       "                          ... \n",
       "Pé-de-Burro                  1\n",
       "Pé de burrico                1\n",
       "Amêija-macha                 1\n",
       "Longuerão                    1\n",
       "Ostra45                      1\n",
       "Name: Espécie, Length: 66, dtype: int64"
      ]
     },
     "execution_count": 11,
     "metadata": {},
     "output_type": "execute_result"
    }
   ],
   "source": [
    "counts = df_micro['Espécie'].value_counts()\n",
    "counts"
   ]
  },
  {
   "cell_type": "code",
   "execution_count": 12,
   "id": "60e92fa0",
   "metadata": {},
   "outputs": [
    {
     "data": {
      "text/plain": [
       "Pé-de-burrico                      20\n",
       "Zamburinha                         18\n",
       "Vieira                             16\n",
       "Leque                              15\n",
       "Amêijoa-Boa                        15\n",
       "Berbigão-lustroso                   7\n",
       "Amêijoa‐boa                         5\n",
       "Navalha                             5\n",
       "ameijoa japonesa                    4\n",
       "Amêijoa‐branca                      3\n",
       "Amêijoa                             3\n",
       "Mexihão                             2\n",
       "Amêjoa-asiática                     2\n",
       "Amêijoa-_x000D_japonesa             2\n",
       "Ostra-gigas                         2\n",
       "Amêijoa‐asiática                    2\n",
       "Amêijoa-relogio                     2\n",
       "Amêijoa-japones                     2\n",
       "Ostra-Portuguesa                    2\n",
       "Ostra-japonesa /gigante             1\n",
       "am. Asiática                        1\n",
       "mexilhão                            1\n",
       "Amêijoa-janponesa                   1\n",
       "Ameijoa-boa                         1\n",
       "Ameijoa-japonesa                    1\n",
       "Vieira (Pecten maximus)             1\n",
       "5400                                1\n",
       "3500                                1\n",
       "Amêjoa-japonesa                     1\n",
       "Ouriço                              1\n",
       "<18                                 1\n",
       "460                                 1\n",
       "Telina                              1\n",
       "Zamburinha (Mimachlamys varia )     1\n",
       "Leque (Aequipecten opercularis)     1\n",
       "Pé-de-Burro                         1\n",
       "Pé de burrico                       1\n",
       "Amêija-macha                        1\n",
       "Longuerão                           1\n",
       "Ostra45                             1\n",
       "Name: Espécie, dtype: int64"
      ]
     },
     "execution_count": 12,
     "metadata": {},
     "output_type": "execute_result"
    }
   ],
   "source": [
    "# Values with less then 20 counts\n",
    "counts[counts <= 20]"
   ]
  },
  {
   "cell_type": "markdown",
   "id": "2d849f88",
   "metadata": {},
   "source": [
    "_Remove Every Spaces_"
   ]
  },
  {
   "cell_type": "code",
   "execution_count": 13,
   "id": "5da3400b",
   "metadata": {},
   "outputs": [
    {
     "name": "stderr",
     "output_type": "stream",
     "text": [
      "C:\\Users\\Administrador\\AppData\\Local\\Temp\\ipykernel_13824\\2549000272.py:1: SettingWithCopyWarning: \n",
      "A value is trying to be set on a copy of a slice from a DataFrame.\n",
      "Try using .loc[row_indexer,col_indexer] = value instead\n",
      "\n",
      "See the caveats in the documentation: https://pandas.pydata.org/pandas-docs/stable/user_guide/indexing.html#returning-a-view-versus-a-copy\n",
      "  df_micro['Espécie'] = df_micro['Espécie'].str.replace(' ','')\n"
     ]
    }
   ],
   "source": [
    "df_micro['Espécie'] = df_micro['Espécie'].str.replace(' ','')"
   ]
  },
  {
   "cell_type": "markdown",
   "id": "fa2ec088",
   "metadata": {},
   "source": [
    "_Remove Species that aren´t bivalves_\n",
    " * Lapa, Ouriço-do-mar, Burrié, Búzio, Buzinas, Canilha, Buzina, Zamburinha \n",
    " * Cerastoderme edule = Berbigão\n",
    " * Callista chione = Amêijola\n",
    " * Scrobicularia plana = Lambujinha\n",
    " * Mytilus edulis = Mexilhão\n",
    " * Crassostrea angulata = Ostra-portuguesa\n",
    " * Leque = Vieira\n",
    " * Navalha = Longueirão\n",
    " * Longueirão-direito = Longueirão\n",
    " * Catanhola = Amêijola\n",
    " * Telina = Amêijola"
   ]
  },
  {
   "cell_type": "code",
   "execution_count": 14,
   "id": "a6ddb497",
   "metadata": {},
   "outputs": [],
   "source": [
    "ñ_bivalve = df_micro[(df_micro['Espécie']=='Lapa') |\n",
    "        (df_micro['Espécie']=='Ouriço-do-mar') |\n",
    "        (df_micro['Espécie']=='Burrié') |\n",
    "        (df_micro['Espécie']=='Búzio') |\n",
    "        (df_micro['Espécie']=='Buzinas') |\n",
    "        (df_micro['Espécie']=='Canilha') |\n",
    "        (df_micro['Espécie']=='Buzina') |\n",
    "        (df_micro['Espécie']=='Zamburinha')| \n",
    "        (df_micro['Espécie']=='Ouriço') |\n",
    "        (df_micro['Espécie']=='Zamburinha(Mimachlamysvaria)')]\n",
    "\n",
    "df_micro = df_micro.drop(ñ_bivalve.index)"
   ]
  },
  {
   "cell_type": "markdown",
   "id": "ab6e9448",
   "metadata": {},
   "source": [
    "_Mexilhão_"
   ]
  },
  {
   "cell_type": "code",
   "execution_count": 15,
   "id": "26fed30a",
   "metadata": {},
   "outputs": [],
   "source": [
    "df_micro.loc[df_micro['Espécie'].isin(['mexilhão',\n",
    "                                      'Mexihão']),'Espécie'] = 'Mexilhão'"
   ]
  },
  {
   "cell_type": "markdown",
   "id": "8b6b76d8",
   "metadata": {},
   "source": [
    "_Amêijoa-boa_"
   ]
  },
  {
   "cell_type": "code",
   "execution_count": 16,
   "id": "ed170863",
   "metadata": {},
   "outputs": [],
   "source": [
    "df_micro.loc[df_micro['Espécie'].isin(['Ameijoa-boa',\n",
    "                                      'Amêijoa‐boa',\n",
    "                                      'Amêijoa-Boa',\n",
    "                                      'AmeijoaBoa']),'Espécie'] = 'Amêijoa-boa'"
   ]
  },
  {
   "cell_type": "markdown",
   "id": "9a2255ef",
   "metadata": {},
   "source": [
    "_Amêijoa-japonesa_"
   ]
  },
  {
   "cell_type": "code",
   "execution_count": 17,
   "id": "f62cb4bf",
   "metadata": {},
   "outputs": [],
   "source": [
    "df_micro.loc[df_micro['Espécie'].isin(['Amêjoa-japonesa',\n",
    "                                      'Ameijoa-japonesa',\n",
    "                                      'Amêijoa-_x000D_japonesa',\n",
    "                                      'Amêijoa‐asiática',\n",
    "                                      'Amêjoa-asiática',\n",
    "                                      'Amêijoa-japones',\n",
    "                                      'ameijoajaponesa',\n",
    "                                      'Amêijoa-asiática',\n",
    "                                      'am.Asiática',\n",
    "                                      'Amêijoa-janponesa']),'Espécie'] = 'Amêijoa-japonesa'"
   ]
  },
  {
   "cell_type": "markdown",
   "id": "74156ace",
   "metadata": {},
   "source": [
    "_Ostra-japonesa_"
   ]
  },
  {
   "cell_type": "code",
   "execution_count": 18,
   "id": "3311d619",
   "metadata": {},
   "outputs": [],
   "source": [
    "df_micro.loc[df_micro['Espécie'].isin(['Ostra-gigas',\n",
    "                                  'Ostra-japonesa',\n",
    "                                  'Ostra-gigante',\n",
    "                                  'Ostra-gigante/japonesa',\n",
    "                                  'Ostra-japonesa/gigante']),'Espécie'] = 'Ostra-japonesa'"
   ]
  },
  {
   "cell_type": "markdown",
   "id": "9c8e779f",
   "metadata": {},
   "source": [
    "_Ostra_"
   ]
  },
  {
   "cell_type": "code",
   "execution_count": 19,
   "id": "c0a35617",
   "metadata": {},
   "outputs": [
    {
     "data": {
      "text/html": [
       "<div>\n",
       "<style scoped>\n",
       "    .dataframe tbody tr th:only-of-type {\n",
       "        vertical-align: middle;\n",
       "    }\n",
       "\n",
       "    .dataframe tbody tr th {\n",
       "        vertical-align: top;\n",
       "    }\n",
       "\n",
       "    .dataframe thead th {\n",
       "        text-align: right;\n",
       "    }\n",
       "</style>\n",
       "<table border=\"1\" class=\"dataframe\">\n",
       "  <thead>\n",
       "    <tr style=\"text-align: right;\">\n",
       "      <th></th>\n",
       "      <th>No Amostra</th>\n",
       "      <th>Data de Colheita</th>\n",
       "      <th>Zona de Produção</th>\n",
       "      <th>Local</th>\n",
       "      <th>Espécie</th>\n",
       "      <th>E.coli (NMP/100G)</th>\n",
       "    </tr>\n",
       "  </thead>\n",
       "  <tbody>\n",
       "    <tr>\n",
       "      <th>9029</th>\n",
       "      <td>14301</td>\n",
       "      <td>14/9/2015</td>\n",
       "      <td>RIAV3</td>\n",
       "      <td>Ilha dos Puxadoiros</td>\n",
       "      <td>Ostra45</td>\n",
       "      <td>2015</td>\n",
       "    </tr>\n",
       "  </tbody>\n",
       "</table>\n",
       "</div>"
      ],
      "text/plain": [
       "     No Amostra Data de Colheita Zona de Produção                Local  \\\n",
       "9029      14301        14/9/2015            RIAV3  Ilha dos Puxadoiros   \n",
       "\n",
       "      Espécie E.coli (NMP/100G)  \n",
       "9029  Ostra45              2015  "
      ]
     },
     "execution_count": 19,
     "metadata": {},
     "output_type": "execute_result"
    }
   ],
   "source": [
    "# Let´s take a look to the 'Espécie' = 'Ostra45'\n",
    "df_micro[df_micro['Espécie']=='Ostra45']"
   ]
  },
  {
   "cell_type": "code",
   "execution_count": 20,
   "id": "95f891d3",
   "metadata": {},
   "outputs": [
    {
     "data": {
      "text/html": [
       "<div>\n",
       "<style scoped>\n",
       "    .dataframe tbody tr th:only-of-type {\n",
       "        vertical-align: middle;\n",
       "    }\n",
       "\n",
       "    .dataframe tbody tr th {\n",
       "        vertical-align: top;\n",
       "    }\n",
       "\n",
       "    .dataframe thead th {\n",
       "        text-align: right;\n",
       "    }\n",
       "</style>\n",
       "<table border=\"1\" class=\"dataframe\">\n",
       "  <thead>\n",
       "    <tr style=\"text-align: right;\">\n",
       "      <th></th>\n",
       "      <th>No Amostra</th>\n",
       "      <th>Data de Colheita</th>\n",
       "      <th>Zona de Produção</th>\n",
       "      <th>Local</th>\n",
       "      <th>Espécie</th>\n",
       "      <th>E.coli (NMP/100G)</th>\n",
       "    </tr>\n",
       "  </thead>\n",
       "  <tbody>\n",
       "    <tr>\n",
       "      <th>9029</th>\n",
       "      <td>14301</td>\n",
       "      <td>14/9/2015</td>\n",
       "      <td>RIAV3</td>\n",
       "      <td>Ilha dos Puxadoiros</td>\n",
       "      <td>Ostra45</td>\n",
       "      <td>2015</td>\n",
       "    </tr>\n",
       "  </tbody>\n",
       "</table>\n",
       "</div>"
      ],
      "text/plain": [
       "     No Amostra Data de Colheita Zona de Produção                Local  \\\n",
       "9029      14301        14/9/2015            RIAV3  Ilha dos Puxadoiros   \n",
       "\n",
       "      Espécie E.coli (NMP/100G)  \n",
       "9029  Ostra45              2015  "
      ]
     },
     "execution_count": 20,
     "metadata": {},
     "output_type": "execute_result"
    }
   ],
   "source": [
    "df_micro[df_micro['E.coli (NMP/100G)']=='2015']"
   ]
  },
  {
   "cell_type": "code",
   "execution_count": 21,
   "id": "a63360e8",
   "metadata": {},
   "outputs": [],
   "source": [
    "# Replace 215 to 45\n",
    "df_micro['E.coli (NMP/100G)'] = df_micro['E.coli (NMP/100G)'].str.replace('2015', '45')"
   ]
  },
  {
   "cell_type": "code",
   "execution_count": 22,
   "id": "513daf7f",
   "metadata": {},
   "outputs": [],
   "source": [
    "df_micro.loc[df_micro['Espécie'].isin(['Ostra',\n",
    "                                      'Ostra45']),'Espécie'] = 'Ostra'"
   ]
  },
  {
   "cell_type": "markdown",
   "id": "f26d5d90",
   "metadata": {},
   "source": [
    "_Ostra-portuguesa_"
   ]
  },
  {
   "cell_type": "code",
   "execution_count": 23,
   "id": "e6a6714c",
   "metadata": {},
   "outputs": [],
   "source": [
    "df_micro.loc[df_micro['Espécie'].isin(['Ostra-Portuguesa']),'Espécie'] = 'Ostra-portuguesa'"
   ]
  },
  {
   "cell_type": "markdown",
   "id": "a349d2ec",
   "metadata": {},
   "source": [
    "_Vieira_"
   ]
  },
  {
   "cell_type": "code",
   "execution_count": 24,
   "id": "a1fab8bf",
   "metadata": {},
   "outputs": [],
   "source": [
    "df_micro.loc[df_micro['Espécie'].isin(['Leque(Aequipectenopercularis)',\n",
    "                                      'Vieira(Pectenmaximus)',\n",
    "                                      'Leque']),'Espécie'] = 'Vieira'"
   ]
  },
  {
   "cell_type": "markdown",
   "id": "136f89fb",
   "metadata": {},
   "source": [
    "_Longueirão_"
   ]
  },
  {
   "cell_type": "code",
   "execution_count": 25,
   "id": "7838164e",
   "metadata": {},
   "outputs": [],
   "source": [
    "df_micro.loc[df_micro['Espécie'].isin(['Longuerão',\n",
    "                                      'Navalha',\n",
    "                                      'Longueirão-direito']),'Espécie'] = 'Longueirão'"
   ]
  },
  {
   "cell_type": "markdown",
   "id": "36449417",
   "metadata": {},
   "source": [
    "_Amêijola_"
   ]
  },
  {
   "cell_type": "code",
   "execution_count": 26,
   "id": "b955ab94",
   "metadata": {},
   "outputs": [],
   "source": [
    "df_micro.loc[df_micro['Espécie'].isin(['Telina',\n",
    "                                      'Castanhola',\n",
    "                                      'Ameijola']),'Espécie'] = 'Amêijola'"
   ]
  },
  {
   "cell_type": "markdown",
   "id": "5285fcfc",
   "metadata": {},
   "source": [
    "_Berbigão_"
   ]
  },
  {
   "cell_type": "code",
   "execution_count": 27,
   "id": "ad1b6178",
   "metadata": {},
   "outputs": [],
   "source": [
    "df_micro.loc[df_micro['Espécie'].isin(['Berbigão-lustroso'])] = 'Berbigão'"
   ]
  },
  {
   "cell_type": "markdown",
   "id": "4ab07cbc",
   "metadata": {},
   "source": [
    "_Pé-de-burro_"
   ]
  },
  {
   "cell_type": "code",
   "execution_count": 28,
   "id": "42047e5d",
   "metadata": {},
   "outputs": [],
   "source": [
    "df_micro['Espécie'] = df_micro['Espécie'].str.replace('Pé-de-Burro','Pé-de-burro')"
   ]
  },
  {
   "cell_type": "markdown",
   "id": "be86ad63",
   "metadata": {},
   "source": [
    "_Pé-de-burrico_"
   ]
  },
  {
   "cell_type": "code",
   "execution_count": 29,
   "id": "d598dc3a",
   "metadata": {},
   "outputs": [],
   "source": [
    "df_micro['Espécie'] = df_micro['Espécie'].str.replace('Pédeburrico','Pé-de-burrico')"
   ]
  },
  {
   "cell_type": "markdown",
   "id": "a3790f99",
   "metadata": {},
   "source": [
    "_Amêijoa-branca_"
   ]
  },
  {
   "cell_type": "code",
   "execution_count": 30,
   "id": "10f01aa0",
   "metadata": {},
   "outputs": [],
   "source": [
    "df_micro['Espécie'] = df_micro['Espécie'].str.replace('Amêijoa‐branca','Amêijoa-branca')"
   ]
  },
  {
   "cell_type": "markdown",
   "id": "a4a08935",
   "metadata": {},
   "source": [
    "_Amêijoa-relógio_"
   ]
  },
  {
   "cell_type": "code",
   "execution_count": 31,
   "id": "9fd8655e",
   "metadata": {},
   "outputs": [],
   "source": [
    "df_micro['Espécie'] = df_micro['Espécie'].str.replace('Amêijoa-relogio','Amêijoa-relógio')"
   ]
  },
  {
   "cell_type": "markdown",
   "id": "e79294f9",
   "metadata": {},
   "source": [
    "_Amêijoa-macha_"
   ]
  },
  {
   "cell_type": "code",
   "execution_count": 32,
   "id": "73b50d8f",
   "metadata": {},
   "outputs": [],
   "source": [
    "df_micro['Espécie'] = df_micro['Espécie'].str.replace('Amêija-macha','Amêijoa-macha')"
   ]
  },
  {
   "cell_type": "markdown",
   "id": "f2273026",
   "metadata": {},
   "source": [
    "_460_"
   ]
  },
  {
   "cell_type": "code",
   "execution_count": 33,
   "id": "44058178",
   "metadata": {},
   "outputs": [
    {
     "data": {
      "text/html": [
       "<div>\n",
       "<style scoped>\n",
       "    .dataframe tbody tr th:only-of-type {\n",
       "        vertical-align: middle;\n",
       "    }\n",
       "\n",
       "    .dataframe tbody tr th {\n",
       "        vertical-align: top;\n",
       "    }\n",
       "\n",
       "    .dataframe thead th {\n",
       "        text-align: right;\n",
       "    }\n",
       "</style>\n",
       "<table border=\"1\" class=\"dataframe\">\n",
       "  <thead>\n",
       "    <tr style=\"text-align: right;\">\n",
       "      <th></th>\n",
       "      <th>No Amostra</th>\n",
       "      <th>Data de Colheita</th>\n",
       "      <th>Zona de Produção</th>\n",
       "      <th>Local</th>\n",
       "      <th>Espécie</th>\n",
       "      <th>E.coli (NMP/100G)</th>\n",
       "    </tr>\n",
       "  </thead>\n",
       "  <tbody>\n",
       "    <tr>\n",
       "      <th>4776</th>\n",
       "      <td>16247</td>\n",
       "      <td>13/12/2016</td>\n",
       "      <td>Corte das Freiras</td>\n",
       "      <td>L0258</td>\n",
       "      <td>460</td>\n",
       "      <td>2016</td>\n",
       "    </tr>\n",
       "  </tbody>\n",
       "</table>\n",
       "</div>"
      ],
      "text/plain": [
       "     No Amostra Data de Colheita   Zona de Produção  Local Espécie  \\\n",
       "4776      16247       13/12/2016  Corte das Freiras  L0258     460   \n",
       "\n",
       "     E.coli (NMP/100G)  \n",
       "4776              2016  "
      ]
     },
     "execution_count": 33,
     "metadata": {},
     "output_type": "execute_result"
    }
   ],
   "source": [
    "df_micro[df_micro['Espécie']=='460']"
   ]
  },
  {
   "cell_type": "code",
   "execution_count": 34,
   "id": "4e0a1115",
   "metadata": {},
   "outputs": [],
   "source": [
    "# Replace 2016 by 460\n",
    "\n",
    "# First, let's create a boolean mask to filter rows where 'Espécie' is '460'\n",
    "mask_esp_460 = df_micro['Espécie'] == '460'\n",
    "\n",
    "# Convert the 'E.coli (NMP/100G)' column to a string\n",
    "df_micro['E.coli (NMP/100G)'] = df_micro['E.coli (NMP/100G)'].astype(str)\n",
    "\n",
    "# Next, use loc to access the rows where 'Espécie' is '460' and update the 'E.coli (NMP/100G)' column\n",
    "df_micro.loc[mask_esp_460, 'E.coli (NMP/100G)'] = df_micro.loc[mask_esp_460, 'E.coli (NMP/100G)'].str.replace('2016', '460')"
   ]
  },
  {
   "cell_type": "code",
   "execution_count": 35,
   "id": "34ff3a97",
   "metadata": {},
   "outputs": [],
   "source": [
    "# Replace 460 at the 'Espécie' column by Ostra-japonesa\n",
    "df_micro['Espécie'] = df_micro['Espécie'].str.replace('460','Ostra-japonesa')"
   ]
  },
  {
   "cell_type": "code",
   "execution_count": 36,
   "id": "e75bc7ba",
   "metadata": {},
   "outputs": [
    {
     "data": {
      "text/plain": [
       "No Amostra            0\n",
       "Data de Colheita      0\n",
       "Zona de Produção      0\n",
       "Local                12\n",
       "Espécie               0\n",
       "E.coli (NMP/100G)     0\n",
       "dtype: int64"
      ]
     },
     "execution_count": 36,
     "metadata": {},
     "output_type": "execute_result"
    }
   ],
   "source": [
    "df_micro.isnull().sum()"
   ]
  },
  {
   "cell_type": "markdown",
   "id": "0c0e87fe",
   "metadata": {},
   "source": [
    "<18"
   ]
  },
  {
   "cell_type": "code",
   "execution_count": 37,
   "id": "6c73ca89",
   "metadata": {},
   "outputs": [
    {
     "data": {
      "text/html": [
       "<div>\n",
       "<style scoped>\n",
       "    .dataframe tbody tr th:only-of-type {\n",
       "        vertical-align: middle;\n",
       "    }\n",
       "\n",
       "    .dataframe tbody tr th {\n",
       "        vertical-align: top;\n",
       "    }\n",
       "\n",
       "    .dataframe thead th {\n",
       "        text-align: right;\n",
       "    }\n",
       "</style>\n",
       "<table border=\"1\" class=\"dataframe\">\n",
       "  <thead>\n",
       "    <tr style=\"text-align: right;\">\n",
       "      <th></th>\n",
       "      <th>No Amostra</th>\n",
       "      <th>Data de Colheita</th>\n",
       "      <th>Zona de Produção</th>\n",
       "      <th>Local</th>\n",
       "      <th>Espécie</th>\n",
       "      <th>E.coli (NMP/100G)</th>\n",
       "    </tr>\n",
       "  </thead>\n",
       "  <tbody>\n",
       "    <tr>\n",
       "      <th>5875</th>\n",
       "      <td>12797</td>\n",
       "      <td>29-07-2014</td>\n",
       "      <td>L6</td>\n",
       "      <td>L0258</td>\n",
       "      <td>&lt;18</td>\n",
       "      <td>2014</td>\n",
       "    </tr>\n",
       "  </tbody>\n",
       "</table>\n",
       "</div>"
      ],
      "text/plain": [
       "     No Amostra Data de Colheita Zona de Produção  Local Espécie  \\\n",
       "5875      12797       29-07-2014               L6  L0258     <18   \n",
       "\n",
       "     E.coli (NMP/100G)  \n",
       "5875              2014  "
      ]
     },
     "execution_count": 37,
     "metadata": {},
     "output_type": "execute_result"
    }
   ],
   "source": [
    "df_micro[df_micro['Espécie']=='<18']"
   ]
  },
  {
   "cell_type": "code",
   "execution_count": 38,
   "id": "829b639d",
   "metadata": {},
   "outputs": [],
   "source": [
    "# Replace 2014 by <18\n",
    "\n",
    "# First, let's create a boolean mask to filter rows where 'Espécie' is '460'\n",
    "mask_esp_18 = df_micro['Espécie'] == '<18'\n",
    "\n",
    "# Next, use loc to access the rows where 'Espécie' is '<18' and update the 'E.coli (NMP/100G)' column\n",
    "df_micro.loc[mask_esp_18, 'E.coli (NMP/100G)'] = df_micro.loc[mask_esp_18, 'E.coli (NMP/100G)'].str.replace('2014', '<18')"
   ]
  },
  {
   "cell_type": "code",
   "execution_count": 39,
   "id": "332ba1ea",
   "metadata": {},
   "outputs": [],
   "source": [
    "# Replace <18 at the 'Espécie' column by Amêijoa-branca\n",
    "df_micro['Espécie'] = df_micro['Espécie'].str.replace('<18','Amêijoa-branca')"
   ]
  },
  {
   "cell_type": "code",
   "execution_count": 40,
   "id": "cfa42666",
   "metadata": {},
   "outputs": [
    {
     "data": {
      "text/plain": [
       "No Amostra            0\n",
       "Data de Colheita      0\n",
       "Zona de Produção      0\n",
       "Local                12\n",
       "Espécie               0\n",
       "E.coli (NMP/100G)     0\n",
       "dtype: int64"
      ]
     },
     "execution_count": 40,
     "metadata": {},
     "output_type": "execute_result"
    }
   ],
   "source": [
    "df_micro.isnull().sum()"
   ]
  },
  {
   "cell_type": "markdown",
   "id": "d6d8fe18",
   "metadata": {},
   "source": [
    "_3500_"
   ]
  },
  {
   "cell_type": "code",
   "execution_count": 41,
   "id": "6cfb33eb",
   "metadata": {},
   "outputs": [
    {
     "data": {
      "text/html": [
       "<div>\n",
       "<style scoped>\n",
       "    .dataframe tbody tr th:only-of-type {\n",
       "        vertical-align: middle;\n",
       "    }\n",
       "\n",
       "    .dataframe tbody tr th {\n",
       "        vertical-align: top;\n",
       "    }\n",
       "\n",
       "    .dataframe thead th {\n",
       "        text-align: right;\n",
       "    }\n",
       "</style>\n",
       "<table border=\"1\" class=\"dataframe\">\n",
       "  <thead>\n",
       "    <tr style=\"text-align: right;\">\n",
       "      <th></th>\n",
       "      <th>No Amostra</th>\n",
       "      <th>Data de Colheita</th>\n",
       "      <th>Zona de Produção</th>\n",
       "      <th>Local</th>\n",
       "      <th>Espécie</th>\n",
       "      <th>E.coli (NMP/100G)</th>\n",
       "    </tr>\n",
       "  </thead>\n",
       "  <tbody>\n",
       "    <tr>\n",
       "      <th>7065</th>\n",
       "      <td>1537411-05-2016</td>\n",
       "      <td>11-05-2016</td>\n",
       "      <td>Aguda</td>\n",
       "      <td>L0258</td>\n",
       "      <td>3500</td>\n",
       "      <td>2016</td>\n",
       "    </tr>\n",
       "  </tbody>\n",
       "</table>\n",
       "</div>"
      ],
      "text/plain": [
       "           No Amostra Data de Colheita Zona de Produção  Local Espécie  \\\n",
       "7065  1537411-05-2016       11-05-2016            Aguda  L0258    3500   \n",
       "\n",
       "     E.coli (NMP/100G)  \n",
       "7065              2016  "
      ]
     },
     "execution_count": 41,
     "metadata": {},
     "output_type": "execute_result"
    }
   ],
   "source": [
    "df_micro[df_micro['Espécie']=='3500']"
   ]
  },
  {
   "cell_type": "code",
   "execution_count": 42,
   "id": "56e81c8e",
   "metadata": {},
   "outputs": [],
   "source": [
    "# Replace 2016 by 3500\n",
    "\n",
    "# First, let's create a boolean mask to filter rows where 'Espécie' is '460'\n",
    "mask_esp_3500 = df_micro['Espécie'] == '3500'\n",
    "\n",
    "# Next, use loc to access the rows where 'Espécie' is '<18' and update the 'E.coli (NMP/100G)' column\n",
    "df_micro.loc[mask_esp_3500, 'E.coli (NMP/100G)'] = df_micro.loc[mask_esp_3500, 'E.coli (NMP/100G)'].str.replace('2016', '<3500')\n",
    "\n",
    "# Replcae the 'No Amostra' to the correct one\n",
    "df_micro.loc[mask_esp_3500, 'No Amostra'] = df_micro.loc[mask_esp_3500, 'No Amostra'].str.replace('1537411-05-2016', '15374')"
   ]
  },
  {
   "cell_type": "code",
   "execution_count": 43,
   "id": "27e86bd4",
   "metadata": {},
   "outputs": [],
   "source": [
    "# Replace 3500 at the 'Espécie' column by Amêijoa-branca\n",
    "df_micro['Espécie'] = df_micro['Espécie'].str.replace('3500','Amêijoa-branca')"
   ]
  },
  {
   "cell_type": "code",
   "execution_count": 44,
   "id": "cddf1024",
   "metadata": {},
   "outputs": [
    {
     "data": {
      "text/plain": [
       "No Amostra            0\n",
       "Data de Colheita      0\n",
       "Zona de Produção      0\n",
       "Local                12\n",
       "Espécie               0\n",
       "E.coli (NMP/100G)     0\n",
       "dtype: int64"
      ]
     },
     "execution_count": 44,
     "metadata": {},
     "output_type": "execute_result"
    }
   ],
   "source": [
    "df_micro.isnull().sum()"
   ]
  },
  {
   "cell_type": "markdown",
   "id": "ec1dbc37",
   "metadata": {},
   "source": [
    "_5400_"
   ]
  },
  {
   "cell_type": "code",
   "execution_count": 45,
   "id": "652fb0cf",
   "metadata": {},
   "outputs": [
    {
     "data": {
      "text/html": [
       "<div>\n",
       "<style scoped>\n",
       "    .dataframe tbody tr th:only-of-type {\n",
       "        vertical-align: middle;\n",
       "    }\n",
       "\n",
       "    .dataframe tbody tr th {\n",
       "        vertical-align: top;\n",
       "    }\n",
       "\n",
       "    .dataframe thead th {\n",
       "        text-align: right;\n",
       "    }\n",
       "</style>\n",
       "<table border=\"1\" class=\"dataframe\">\n",
       "  <thead>\n",
       "    <tr style=\"text-align: right;\">\n",
       "      <th></th>\n",
       "      <th>No Amostra</th>\n",
       "      <th>Data de Colheita</th>\n",
       "      <th>Zona de Produção</th>\n",
       "      <th>Local</th>\n",
       "      <th>Espécie</th>\n",
       "      <th>E.coli (NMP/100G)</th>\n",
       "    </tr>\n",
       "  </thead>\n",
       "  <tbody>\n",
       "    <tr>\n",
       "      <th>7067</th>\n",
       "      <td>1537610-05-2016</td>\n",
       "      <td>11-05-2016</td>\n",
       "      <td>Labruje</td>\n",
       "      <td>L0258</td>\n",
       "      <td>5400</td>\n",
       "      <td>2016</td>\n",
       "    </tr>\n",
       "  </tbody>\n",
       "</table>\n",
       "</div>"
      ],
      "text/plain": [
       "           No Amostra Data de Colheita Zona de Produção  Local Espécie  \\\n",
       "7067  1537610-05-2016       11-05-2016          Labruje  L0258    5400   \n",
       "\n",
       "     E.coli (NMP/100G)  \n",
       "7067              2016  "
      ]
     },
     "execution_count": 45,
     "metadata": {},
     "output_type": "execute_result"
    }
   ],
   "source": [
    "df_micro[df_micro['Espécie']=='5400']"
   ]
  },
  {
   "cell_type": "code",
   "execution_count": 46,
   "id": "20452f59",
   "metadata": {},
   "outputs": [],
   "source": [
    "# Replace 2016 by 3500\n",
    "\n",
    "# First, let's create a boolean mask to filter rows where 'Espécie' is '460'\n",
    "mask_esp_5400 = df_micro['Espécie'] == '5400'\n",
    "\n",
    "# Next, use loc to access the rows where 'Espécie' is '<18' and update the 'E.coli (NMP/100G)' column\n",
    "df_micro.loc[mask_esp_5400, 'E.coli (NMP/100G)'] = df_micro.loc[mask_esp_5400, 'E.coli (NMP/100G)'].str.replace('2016', '5400')\n",
    "\n",
    "# Replcae the 'No Amostra' to the correct one\n",
    "df_micro.loc[mask_esp_5400, 'No Amostra'] = df_micro.loc[mask_esp_5400, 'No Amostra'].str.replace('1537610-05-2016', '15376')"
   ]
  },
  {
   "cell_type": "code",
   "execution_count": 47,
   "id": "7a1dc768",
   "metadata": {},
   "outputs": [],
   "source": [
    "# Replace 5400 at the 'Espécie' column by Amêijoa-branca\n",
    "df_micro['Espécie'] = df_micro['Espécie'].str.replace('5400','Amêijoa-branca')"
   ]
  },
  {
   "cell_type": "code",
   "execution_count": 48,
   "id": "a3c20e9a",
   "metadata": {},
   "outputs": [
    {
     "data": {
      "text/plain": [
       "No Amostra            0\n",
       "Data de Colheita      0\n",
       "Zona de Produção      0\n",
       "Local                12\n",
       "Espécie               0\n",
       "E.coli (NMP/100G)     0\n",
       "dtype: int64"
      ]
     },
     "execution_count": 48,
     "metadata": {},
     "output_type": "execute_result"
    }
   ],
   "source": [
    "df_micro.isnull().sum()"
   ]
  },
  {
   "cell_type": "markdown",
   "id": "91d86014",
   "metadata": {},
   "source": [
    "## Zona de Produção"
   ]
  },
  {
   "cell_type": "code",
   "execution_count": 49,
   "id": "51a3964e",
   "metadata": {},
   "outputs": [
    {
     "data": {
      "text/plain": [
       "LOB          504\n",
       "ESD1         426\n",
       "L6           406\n",
       "RIAV1        399\n",
       "RIAV2        394\n",
       "            ... \n",
       "Riav3          1\n",
       "VRSA/Tav1      1\n",
       "Aguda          1\n",
       "Labruje        1\n",
       "EDS1           1\n",
       "Name: Zona de Produção, Length: 72, dtype: int64"
      ]
     },
     "execution_count": 49,
     "metadata": {},
     "output_type": "execute_result"
    }
   ],
   "source": [
    "counts_zona = df_micro['Zona de Produção'].value_counts()\n",
    "counts_zona"
   ]
  },
  {
   "cell_type": "markdown",
   "id": "0e9f8242",
   "metadata": {},
   "source": [
    "_Remove Every Spaces from 'Zona de Produção' Column_"
   ]
  },
  {
   "cell_type": "code",
   "execution_count": 50,
   "id": "fdb2dea7",
   "metadata": {},
   "outputs": [],
   "source": [
    "df_micro['Zona de Produção'] = df_micro['Zona de Produção'].str.replace(' ','')"
   ]
  },
  {
   "cell_type": "markdown",
   "id": "595cabc0",
   "metadata": {},
   "source": [
    "_ETJ_"
   ]
  },
  {
   "cell_type": "code",
   "execution_count": 51,
   "id": "2c62f798",
   "metadata": {},
   "outputs": [
    {
     "data": {
      "text/plain": [
       "ETJ     262\n",
       "ETJ1     97\n",
       "ETJ2     30\n",
       "Name: Zona de Produção, dtype: int64"
      ]
     },
     "execution_count": 51,
     "metadata": {},
     "output_type": "execute_result"
    }
   ],
   "source": [
    "df_micro[df_micro['Zona de Produção'].str.contains('ETJ')]['Zona de Produção'].value_counts()"
   ]
  },
  {
   "cell_type": "code",
   "execution_count": 52,
   "id": "1ebc415d",
   "metadata": {},
   "outputs": [],
   "source": [
    "# Function to search for zona de produção\n",
    "def search_zona(zona):\n",
    "    search = df_micro[df_micro['Zona de Produção'].str.contains(zona)]['Zona de Produção'].value_counts()\n",
    "    return search"
   ]
  },
  {
   "cell_type": "code",
   "execution_count": 53,
   "id": "69161359",
   "metadata": {},
   "outputs": [
    {
     "data": {
      "text/plain": [
       "ETJ     262\n",
       "ETJ1     97\n",
       "ETJ2     30\n",
       "Name: Zona de Produção, dtype: int64"
      ]
     },
     "execution_count": 53,
     "metadata": {},
     "output_type": "execute_result"
    }
   ],
   "source": [
    "search_zona('ETJ')"
   ]
  },
  {
   "cell_type": "code",
   "execution_count": 54,
   "id": "9df9f8f8",
   "metadata": {},
   "outputs": [],
   "source": [
    "# Replcae ETJ1 and ETJ2 by ETJ\n",
    "df_micro.loc[df_micro['Zona de Produção'].isin(['ETJ1',\n",
    "                                               'ETJ2']),'Zona de Produção'] = 'ETJ'"
   ]
  },
  {
   "cell_type": "markdown",
   "id": "aadf24b3",
   "metadata": {},
   "source": [
    "_LOB_"
   ]
  },
  {
   "cell_type": "code",
   "execution_count": 55,
   "id": "a32380d4",
   "metadata": {},
   "outputs": [
    {
     "data": {
      "text/plain": [
       "LOB    504\n",
       "Name: Zona de Produção, dtype: int64"
      ]
     },
     "execution_count": 55,
     "metadata": {},
     "output_type": "execute_result"
    }
   ],
   "source": [
    "search_zona('LOB')"
   ]
  },
  {
   "cell_type": "markdown",
   "id": "c60b8ad1",
   "metadata": {},
   "source": [
    "_ESD_"
   ]
  },
  {
   "cell_type": "code",
   "execution_count": 56,
   "id": "3038fc15",
   "metadata": {},
   "outputs": [
    {
     "data": {
      "text/plain": [
       "ESD1    426\n",
       "ESD2    336\n",
       "Name: Zona de Produção, dtype: int64"
      ]
     },
     "execution_count": 56,
     "metadata": {},
     "output_type": "execute_result"
    }
   ],
   "source": [
    "search_zona('ESD')"
   ]
  },
  {
   "cell_type": "code",
   "execution_count": 57,
   "id": "f26af1aa",
   "metadata": {},
   "outputs": [],
   "source": [
    "# Replace ESD1 and ESD2 by ESD\n",
    "df_micro.loc[df_micro['Zona de Produção'].isin(['ESD1',\n",
    "                                               'ESD2',\n",
    "                                               'EDS1']),'Zona de Produção'] = 'ESD'"
   ]
  },
  {
   "cell_type": "markdown",
   "id": "901bbcb9",
   "metadata": {},
   "source": [
    "_EMN_"
   ]
  },
  {
   "cell_type": "code",
   "execution_count": 58,
   "id": "f9e3e0ef",
   "metadata": {},
   "outputs": [
    {
     "data": {
      "text/plain": [
       "EMN2      95\n",
       "EMNNZ     70\n",
       "EMN1      62\n",
       "EMN       38\n",
       "EMN-NZ     5\n",
       "Name: Zona de Produção, dtype: int64"
      ]
     },
     "execution_count": 58,
     "metadata": {},
     "output_type": "execute_result"
    }
   ],
   "source": [
    "search_zona('EMN')"
   ]
  },
  {
   "cell_type": "code",
   "execution_count": 59,
   "id": "1c84170d",
   "metadata": {},
   "outputs": [],
   "source": [
    "df_micro.loc[df_micro['Zona de Produção'].isin(['EMN2',\n",
    "                                               'EMNNZ',\n",
    "                                               'EMN1',\n",
    "                                               'EMN1',\n",
    "                                               'EMN-NZ']),'Zona de Produção'] = 'EMN'"
   ]
  },
  {
   "cell_type": "markdown",
   "id": "fe27c496",
   "metadata": {},
   "source": [
    "_EMR_"
   ]
  },
  {
   "cell_type": "code",
   "execution_count": 60,
   "id": "965dd1b3",
   "metadata": {},
   "outputs": [
    {
     "data": {
      "text/plain": [
       "EMN    270\n",
       "Name: Zona de Produção, dtype: int64"
      ]
     },
     "execution_count": 60,
     "metadata": {},
     "output_type": "execute_result"
    }
   ],
   "source": [
    "search_zona('EMN')"
   ]
  },
  {
   "cell_type": "markdown",
   "id": "2750872c",
   "metadata": {},
   "source": [
    "_L - Litoral_"
   ]
  },
  {
   "cell_type": "code",
   "execution_count": 61,
   "id": "0fc71e74",
   "metadata": {},
   "outputs": [
    {
     "data": {
      "text/plain": [
       "L1    198\n",
       "Name: Zona de Produção, dtype: int64"
      ]
     },
     "execution_count": 61,
     "metadata": {},
     "output_type": "execute_result"
    }
   ],
   "source": [
    "search_zona('L1')"
   ]
  },
  {
   "cell_type": "code",
   "execution_count": 62,
   "id": "a249c1df",
   "metadata": {},
   "outputs": [
    {
     "data": {
      "text/plain": [
       "L2    209\n",
       "Name: Zona de Produção, dtype: int64"
      ]
     },
     "execution_count": 62,
     "metadata": {},
     "output_type": "execute_result"
    }
   ],
   "source": [
    "search_zona('L2')"
   ]
  },
  {
   "cell_type": "code",
   "execution_count": 63,
   "id": "94cbd8f0",
   "metadata": {},
   "outputs": [
    {
     "data": {
      "text/plain": [
       "L3    136\n",
       "Name: Zona de Produção, dtype: int64"
      ]
     },
     "execution_count": 63,
     "metadata": {},
     "output_type": "execute_result"
    }
   ],
   "source": [
    "search_zona('L3')"
   ]
  },
  {
   "cell_type": "code",
   "execution_count": 64,
   "id": "458f8b8f",
   "metadata": {},
   "outputs": [
    {
     "data": {
      "text/plain": [
       "L4    121\n",
       "Name: Zona de Produção, dtype: int64"
      ]
     },
     "execution_count": 64,
     "metadata": {},
     "output_type": "execute_result"
    }
   ],
   "source": [
    "search_zona('L4')"
   ]
  },
  {
   "cell_type": "code",
   "execution_count": 65,
   "id": "52ddf6f1",
   "metadata": {},
   "outputs": [
    {
     "data": {
      "text/plain": [
       "L5b    139\n",
       "L5     104\n",
       "L5a     60\n",
       "Name: Zona de Produção, dtype: int64"
      ]
     },
     "execution_count": 65,
     "metadata": {},
     "output_type": "execute_result"
    }
   ],
   "source": [
    "search_zona('L5')"
   ]
  },
  {
   "cell_type": "code",
   "execution_count": 66,
   "id": "057d3d8b",
   "metadata": {},
   "outputs": [],
   "source": [
    "df_micro.loc[df_micro['Zona de Produção'].isin(['L5b',\n",
    "                                               'L5a']),'Zona de Produção'] = 'L5'"
   ]
  },
  {
   "cell_type": "code",
   "execution_count": 67,
   "id": "a62ba9f3",
   "metadata": {},
   "outputs": [
    {
     "data": {
      "text/plain": [
       "L6    406\n",
       "Name: Zona de Produção, dtype: int64"
      ]
     },
     "execution_count": 67,
     "metadata": {},
     "output_type": "execute_result"
    }
   ],
   "source": [
    "search_zona('L6')"
   ]
  },
  {
   "cell_type": "code",
   "execution_count": 68,
   "id": "0e4a5a13",
   "metadata": {},
   "outputs": [
    {
     "data": {
      "text/plain": [
       "L7c2    185\n",
       "L7a     117\n",
       "L7c      82\n",
       "L7b      64\n",
       "L7c1     56\n",
       "L7C2      6\n",
       "L7        5\n",
       "Name: Zona de Produção, dtype: int64"
      ]
     },
     "execution_count": 68,
     "metadata": {},
     "output_type": "execute_result"
    }
   ],
   "source": [
    "search_zona('L7')"
   ]
  },
  {
   "cell_type": "code",
   "execution_count": 69,
   "id": "56a8d31c",
   "metadata": {},
   "outputs": [
    {
     "data": {
      "text/plain": [
       "Praia da Arrifana    2\n",
       "Porto de Mós         2\n",
       "Sagres               1\n",
       "Name: Local, dtype: int64"
      ]
     },
     "execution_count": 69,
     "metadata": {},
     "output_type": "execute_result"
    }
   ],
   "source": [
    "# Search the 'Local' from 'zona de produção' = 'L7' to find out wich zone belongs\n",
    "df_micro[df_micro['Zona de Produção']=='L7']['Local'].value_counts()"
   ]
  },
  {
   "cell_type": "code",
   "execution_count": 70,
   "id": "2bac44d4",
   "metadata": {},
   "outputs": [
    {
     "data": {
      "text/plain": [
       "Aljezur               45\n",
       "Aljezur - Amoreira    20\n",
       "Praia da Amoreira     15\n",
       "Porto de Mós          12\n",
       "Praia da Arrifana     10\n",
       "Amoreira               5\n",
       "Aljezur - Bordeira     3\n",
       "Aljezur - Odeceixe     3\n",
       "Praia de Amoreira      3\n",
       "Praia Amoreira         1\n",
       "Name: Local, dtype: int64"
      ]
     },
     "execution_count": 70,
     "metadata": {},
     "output_type": "execute_result"
    }
   ],
   "source": [
    "df_micro[df_micro['Zona de Produção']=='L7a']['Local'].value_counts()"
   ]
  },
  {
   "cell_type": "code",
   "execution_count": 71,
   "id": "e6b91daf",
   "metadata": {},
   "outputs": [
    {
     "data": {
      "text/plain": [
       "Porto de Mós - Cultura    68\n",
       "Offshore MS1              61\n",
       "Albufeira                 39\n",
       "MS1                        8\n",
       "Porto de Mós               7\n",
       "Offshore  MS1              1\n",
       "Cultura                    1\n",
       "Name: Local, dtype: int64"
      ]
     },
     "execution_count": 71,
     "metadata": {},
     "output_type": "execute_result"
    }
   ],
   "source": [
    "df_micro[df_micro['Zona de Produção']=='L7c2']['Local'].value_counts()"
   ]
  },
  {
   "cell_type": "code",
   "execution_count": 72,
   "id": "c544f91c",
   "metadata": {},
   "outputs": [
    {
     "data": {
      "text/plain": [
       "Offshore           46\n",
       "Ponta do Zavial    10\n",
       "Name: Local, dtype: int64"
      ]
     },
     "execution_count": 72,
     "metadata": {},
     "output_type": "execute_result"
    }
   ],
   "source": [
    "df_micro[df_micro['Zona de Produção']=='L7c1']['Local'].value_counts()"
   ]
  },
  {
   "cell_type": "code",
   "execution_count": 73,
   "id": "49709d55",
   "metadata": {},
   "outputs": [
    {
     "data": {
      "text/plain": [
       "Sagres              42\n",
       "Cultura             12\n",
       "Sagres - Cultura     6\n",
       "Sagres, Cultura      3\n",
       "Sagres-Cultura       1\n",
       "Name: Local, dtype: int64"
      ]
     },
     "execution_count": 73,
     "metadata": {},
     "output_type": "execute_result"
    }
   ],
   "source": [
    "df_micro[df_micro['Zona de Produção']=='L7b']['Local'].value_counts()"
   ]
  },
  {
   "cell_type": "code",
   "execution_count": 74,
   "id": "6e970d56",
   "metadata": {},
   "outputs": [],
   "source": [
    "# L7 with Local  = 'Praia da Arrifana' is L7a\n",
    "\n",
    "# First, let's create a boolean mask to filter rows where 'Zona de Produção' is 'L7' and 'Local' is 'Praia da Arrifana'\n",
    "mask_l7_arrifana = (df_micro['Zona de Produção'] == 'L7') & (df_micro['Local'] == 'Praia da Arrifana')\n",
    "\n",
    "# Next, use loc to access the rows that meet the condition and update the 'Zona de produção' column\n",
    "df_micro.loc[mask_l7_arrifana, 'Zona de Produção'] = df_micro.loc[mask_l7_arrifana, 'Zona de Produção'].str.replace('L7', 'L7a')"
   ]
  },
  {
   "cell_type": "code",
   "execution_count": 75,
   "id": "23ebb965",
   "metadata": {},
   "outputs": [],
   "source": [
    "# L7 with Local  = 'Sagres' is L7b\n",
    "\n",
    "# First, let's create a boolean mask to filter rows where 'Zona de Produção' is 'L7' and 'Local' is 'Sagres'\n",
    "mask_l7_sagres = (df_micro['Zona de Produção'] == 'L7') & (df_micro['Local'] == 'Sagres')\n",
    "\n",
    "# Next, use loc to access the rows that meet the condition and update the 'Zona de produção' column\n",
    "df_micro.loc[mask_l7_sagres, 'Zona de Produção'] = df_micro.loc[mask_l7_sagres, 'Zona de Produção'].str.replace('L7', 'L7b')"
   ]
  },
  {
   "cell_type": "code",
   "execution_count": 76,
   "id": "1a10d727",
   "metadata": {},
   "outputs": [],
   "source": [
    "# L7 with Local  = 'Porto de Mós' is L7c2\n",
    "\n",
    "# First, let's create a boolean mask to filter rows where 'Zona de Produção' is 'L7' and 'Local' is 'Porto de Mós'\n",
    "mask_l7_mos = (df_micro['Zona de Produção'] == 'L7') & (df_micro['Local'] == 'Porto de Mós')\n",
    "\n",
    "# Next, use loc to access the rows that meet the condition and update the 'Zona de produção' column\n",
    "df_micro.loc[mask_l7_mos, 'Zona de Produção'] = df_micro.loc[mask_l7_mos, 'Zona de Produção'].str.replace('L7', 'L7c2')"
   ]
  },
  {
   "cell_type": "code",
   "execution_count": 77,
   "id": "a33a6324",
   "metadata": {},
   "outputs": [],
   "source": [
    "# L7c2\n",
    "df_micro['Zona de Produção'] = df_micro['Zona de Produção'].str.replace('L7C2','L7c2')"
   ]
  },
  {
   "cell_type": "code",
   "execution_count": 78,
   "id": "c0045468",
   "metadata": {},
   "outputs": [
    {
     "data": {
      "text/plain": [
       "Porto de Mós              30\n",
       "Offshore                  27\n",
       "Porto de Mós - Cultura    16\n",
       "Jaulas Offshore            2\n",
       "Albufeira                  2\n",
       "Lagos, Porto de Mós        1\n",
       "Lagos/Porto de Mós         1\n",
       "Sagres                     1\n",
       "Cultura                    1\n",
       "Ponta do Zavial            1\n",
       "Name: Local, dtype: int64"
      ]
     },
     "execution_count": 78,
     "metadata": {},
     "output_type": "execute_result"
    }
   ],
   "source": [
    "# Search the 'Local' from 'zona de produção' = 'L7c' to find out wich zone belongs\n",
    "df_micro[df_micro['Zona de Produção']=='L7c']['Local'].value_counts()"
   ]
  },
  {
   "cell_type": "code",
   "execution_count": 79,
   "id": "3d67fa5a",
   "metadata": {},
   "outputs": [
    {
     "data": {
      "text/plain": [
       "Offshore           46\n",
       "Ponta do Zavial    10\n",
       "Name: Local, dtype: int64"
      ]
     },
     "execution_count": 79,
     "metadata": {},
     "output_type": "execute_result"
    }
   ],
   "source": [
    "# Search the 'Local' from 'zona de produção' = 'L7c1'\n",
    "df_micro[df_micro['Zona de Produção']=='L7c1']['Local'].value_counts()"
   ]
  },
  {
   "cell_type": "code",
   "execution_count": 80,
   "id": "83ad46fe",
   "metadata": {},
   "outputs": [
    {
     "data": {
      "text/plain": [
       "Porto de Mós - Cultura    68\n",
       "Offshore MS1              61\n",
       "Albufeira                 39\n",
       "Porto de Mós               9\n",
       "MS1                        8\n",
       "Meia-praia                 3\n",
       "Praia dos Tomates          3\n",
       "Offshore  MS1              1\n",
       "Cultura                    1\n",
       "Name: Local, dtype: int64"
      ]
     },
     "execution_count": 80,
     "metadata": {},
     "output_type": "execute_result"
    }
   ],
   "source": [
    "# Search the 'Local' from 'zona de produção' = 'L7c2'\n",
    "df_micro[df_micro['Zona de Produção']=='L7c2']['Local'].value_counts()"
   ]
  },
  {
   "cell_type": "code",
   "execution_count": 81,
   "id": "d60c0d39",
   "metadata": {},
   "outputs": [],
   "source": [
    "df_micro.loc[df_micro['Zona de Produção'].isin(['L7c']),'Zona de Produção'] = 'L7c2'"
   ]
  },
  {
   "cell_type": "markdown",
   "id": "2e994cb1",
   "metadata": {},
   "source": [
    "_RIAV_"
   ]
  },
  {
   "cell_type": "code",
   "execution_count": 82,
   "id": "751b8806",
   "metadata": {},
   "outputs": [
    {
     "data": {
      "text/plain": [
       "RIAV1     401\n",
       "RIAV2     396\n",
       "RIAV3     354\n",
       "RIAV4     347\n",
       "RIAVNZ     23\n",
       "Name: Zona de Produção, dtype: int64"
      ]
     },
     "execution_count": 82,
     "metadata": {},
     "output_type": "execute_result"
    }
   ],
   "source": [
    "search_zona('RIAV')"
   ]
  },
  {
   "cell_type": "code",
   "execution_count": 83,
   "id": "34fcfbd1",
   "metadata": {},
   "outputs": [
    {
     "data": {
      "text/html": [
       "<div>\n",
       "<style scoped>\n",
       "    .dataframe tbody tr th:only-of-type {\n",
       "        vertical-align: middle;\n",
       "    }\n",
       "\n",
       "    .dataframe tbody tr th {\n",
       "        vertical-align: top;\n",
       "    }\n",
       "\n",
       "    .dataframe thead th {\n",
       "        text-align: right;\n",
       "    }\n",
       "</style>\n",
       "<table border=\"1\" class=\"dataframe\">\n",
       "  <thead>\n",
       "    <tr style=\"text-align: right;\">\n",
       "      <th></th>\n",
       "      <th>No Amostra</th>\n",
       "      <th>Data de Colheita</th>\n",
       "      <th>Zona de Produção</th>\n",
       "      <th>Local</th>\n",
       "      <th>Espécie</th>\n",
       "      <th>E.coli (NMP/100G)</th>\n",
       "    </tr>\n",
       "  </thead>\n",
       "  <tbody>\n",
       "    <tr>\n",
       "      <th>113</th>\n",
       "      <td>366 /21</td>\n",
       "      <td>13/04/2021</td>\n",
       "      <td>RIAVNZ</td>\n",
       "      <td>Bolho da Malhada</td>\n",
       "      <td>Ostra-japonesa</td>\n",
       "      <td>330</td>\n",
       "    </tr>\n",
       "    <tr>\n",
       "      <th>381</th>\n",
       "      <td>625/20</td>\n",
       "      <td>17/08/2020</td>\n",
       "      <td>RIAVNZ</td>\n",
       "      <td>Bolho da Malhada</td>\n",
       "      <td>Ostra-japonesa</td>\n",
       "      <td>170</td>\n",
       "    </tr>\n",
       "    <tr>\n",
       "      <th>818</th>\n",
       "      <td>1240/21</td>\n",
       "      <td>20/12/2021</td>\n",
       "      <td>RIAVNZ</td>\n",
       "      <td>Bolho da Malhada</td>\n",
       "      <td>Ostra-japonesa</td>\n",
       "      <td>&lt;18</td>\n",
       "    </tr>\n",
       "    <tr>\n",
       "      <th>966</th>\n",
       "      <td>112 /21</td>\n",
       "      <td>02/02/2021</td>\n",
       "      <td>RIAVNZ</td>\n",
       "      <td>Bolho da Malhada</td>\n",
       "      <td>Ostra-japonesa</td>\n",
       "      <td>7900</td>\n",
       "    </tr>\n",
       "    <tr>\n",
       "      <th>1348</th>\n",
       "      <td>16 /21</td>\n",
       "      <td>05/01/2021</td>\n",
       "      <td>RIAVNZ</td>\n",
       "      <td>Bolho da Malhada</td>\n",
       "      <td>Ostra-japonesa</td>\n",
       "      <td>2200</td>\n",
       "    </tr>\n",
       "    <tr>\n",
       "      <th>1377</th>\n",
       "      <td>68 /21</td>\n",
       "      <td>19/01/2021</td>\n",
       "      <td>RIAVNZ</td>\n",
       "      <td>Bolho da Malhada</td>\n",
       "      <td>Ostra-japonesa</td>\n",
       "      <td>3300</td>\n",
       "    </tr>\n",
       "    <tr>\n",
       "      <th>1928</th>\n",
       "      <td>539 /21</td>\n",
       "      <td>21/06/2021</td>\n",
       "      <td>RIAVNZ</td>\n",
       "      <td>Bolho da Malhada</td>\n",
       "      <td>Ostra-japonesa</td>\n",
       "      <td>&lt;18</td>\n",
       "    </tr>\n",
       "    <tr>\n",
       "      <th>2307</th>\n",
       "      <td>487 /21</td>\n",
       "      <td>25/05/2021</td>\n",
       "      <td>RIAVNZ</td>\n",
       "      <td>Bolho da Malhada</td>\n",
       "      <td>Ostra-japonesa</td>\n",
       "      <td>45</td>\n",
       "    </tr>\n",
       "    <tr>\n",
       "      <th>2652</th>\n",
       "      <td>199 /21</td>\n",
       "      <td>02/03/2021</td>\n",
       "      <td>RIAVNZ</td>\n",
       "      <td>Bolho da Malhada</td>\n",
       "      <td>Ostra-japonesa</td>\n",
       "      <td>1300</td>\n",
       "    </tr>\n",
       "    <tr>\n",
       "      <th>2689</th>\n",
       "      <td>278 /21</td>\n",
       "      <td>16/03/2021</td>\n",
       "      <td>RIAVNZ</td>\n",
       "      <td>Bolho da Malhada</td>\n",
       "      <td>Ostra-japonesa</td>\n",
       "      <td>130</td>\n",
       "    </tr>\n",
       "    <tr>\n",
       "      <th>2703</th>\n",
       "      <td>313 /21</td>\n",
       "      <td>29/03/2021</td>\n",
       "      <td>RIAVNZ</td>\n",
       "      <td>Bolho da Malhada</td>\n",
       "      <td>Ostra-japonesa</td>\n",
       "      <td>130</td>\n",
       "    </tr>\n",
       "    <tr>\n",
       "      <th>2966</th>\n",
       "      <td>1240 /20</td>\n",
       "      <td>02/11/2020</td>\n",
       "      <td>RIAVNZ</td>\n",
       "      <td>Bolho da Malhada</td>\n",
       "      <td>Ostra-japonesa</td>\n",
       "      <td>490</td>\n",
       "    </tr>\n",
       "    <tr>\n",
       "      <th>3229</th>\n",
       "      <td>915 /20</td>\n",
       "      <td>06/10/2020</td>\n",
       "      <td>RIAVNZ</td>\n",
       "      <td>Bolho da Malhada</td>\n",
       "      <td>Ostra-japonesa</td>\n",
       "      <td>45</td>\n",
       "    </tr>\n",
       "    <tr>\n",
       "      <th>3472</th>\n",
       "      <td>686 /20</td>\n",
       "      <td>01/09/2020</td>\n",
       "      <td>RIAVNZ</td>\n",
       "      <td>Bolho da Malhada</td>\n",
       "      <td>Ostra-japonesa</td>\n",
       "      <td>20</td>\n",
       "    </tr>\n",
       "    <tr>\n",
       "      <th>3507</th>\n",
       "      <td>868 /20</td>\n",
       "      <td>22/09/2020</td>\n",
       "      <td>RIAVNZ</td>\n",
       "      <td>Bolho da Malhada</td>\n",
       "      <td>Ostra-japonesa</td>\n",
       "      <td>230</td>\n",
       "    </tr>\n",
       "    <tr>\n",
       "      <th>4470</th>\n",
       "      <td>18230</td>\n",
       "      <td>31/7/2018</td>\n",
       "      <td>RIAVNZ</td>\n",
       "      <td>Norte da Vista Alegre</td>\n",
       "      <td>Amêijoa-japonesa</td>\n",
       "      <td>4600</td>\n",
       "    </tr>\n",
       "    <tr>\n",
       "      <th>4471</th>\n",
       "      <td>18231</td>\n",
       "      <td>31/7/2018</td>\n",
       "      <td>RIAVNZ</td>\n",
       "      <td>Norte da Vista Alegre</td>\n",
       "      <td>Berbigão</td>\n",
       "      <td>1300</td>\n",
       "    </tr>\n",
       "    <tr>\n",
       "      <th>6248</th>\n",
       "      <td>18230</td>\n",
       "      <td>31/7/2018</td>\n",
       "      <td>RIAVNZ</td>\n",
       "      <td>Norte da Vista Alegre</td>\n",
       "      <td>Amêijoa-japonesa</td>\n",
       "      <td>4600</td>\n",
       "    </tr>\n",
       "    <tr>\n",
       "      <th>6249</th>\n",
       "      <td>18231</td>\n",
       "      <td>31/7/2018</td>\n",
       "      <td>RIAVNZ</td>\n",
       "      <td>Norte da Vista Alegre</td>\n",
       "      <td>Berbigão</td>\n",
       "      <td>1300</td>\n",
       "    </tr>\n",
       "    <tr>\n",
       "      <th>6715</th>\n",
       "      <td>17990</td>\n",
       "      <td>5/6/2018</td>\n",
       "      <td>RIAVNZ</td>\n",
       "      <td>Norte da Vista Alegre</td>\n",
       "      <td>Berbigão</td>\n",
       "      <td>13000</td>\n",
       "    </tr>\n",
       "    <tr>\n",
       "      <th>6716</th>\n",
       "      <td>17991</td>\n",
       "      <td>5/6/2018</td>\n",
       "      <td>RIAVNZ</td>\n",
       "      <td>Norte da Vista Alegre</td>\n",
       "      <td>Amêijoa-japonesa</td>\n",
       "      <td>13000</td>\n",
       "    </tr>\n",
       "    <tr>\n",
       "      <th>6776</th>\n",
       "      <td>18082</td>\n",
       "      <td>26/6/2018</td>\n",
       "      <td>RIAVNZ</td>\n",
       "      <td>Norte da Vista Alegre</td>\n",
       "      <td>Berbigão</td>\n",
       "      <td>7900</td>\n",
       "    </tr>\n",
       "    <tr>\n",
       "      <th>6777</th>\n",
       "      <td>18083</td>\n",
       "      <td>26/6/2018</td>\n",
       "      <td>RIAVNZ</td>\n",
       "      <td>Norte da Vista Alegre</td>\n",
       "      <td>Amêijoa-japonesa</td>\n",
       "      <td>17000</td>\n",
       "    </tr>\n",
       "  </tbody>\n",
       "</table>\n",
       "</div>"
      ],
      "text/plain": [
       "     No Amostra Data de Colheita Zona de Produção                  Local  \\\n",
       "113     366 /21       13/04/2021           RIAVNZ       Bolho da Malhada   \n",
       "381      625/20       17/08/2020           RIAVNZ       Bolho da Malhada   \n",
       "818     1240/21       20/12/2021           RIAVNZ       Bolho da Malhada   \n",
       "966     112 /21       02/02/2021           RIAVNZ       Bolho da Malhada   \n",
       "1348     16 /21       05/01/2021           RIAVNZ       Bolho da Malhada   \n",
       "1377     68 /21       19/01/2021           RIAVNZ       Bolho da Malhada   \n",
       "1928    539 /21       21/06/2021           RIAVNZ       Bolho da Malhada   \n",
       "2307    487 /21       25/05/2021           RIAVNZ       Bolho da Malhada   \n",
       "2652    199 /21       02/03/2021           RIAVNZ       Bolho da Malhada   \n",
       "2689    278 /21       16/03/2021           RIAVNZ       Bolho da Malhada   \n",
       "2703    313 /21       29/03/2021           RIAVNZ       Bolho da Malhada   \n",
       "2966   1240 /20       02/11/2020           RIAVNZ       Bolho da Malhada   \n",
       "3229    915 /20       06/10/2020           RIAVNZ       Bolho da Malhada   \n",
       "3472    686 /20       01/09/2020           RIAVNZ       Bolho da Malhada   \n",
       "3507    868 /20       22/09/2020           RIAVNZ       Bolho da Malhada   \n",
       "4470      18230        31/7/2018           RIAVNZ  Norte da Vista Alegre   \n",
       "4471      18231        31/7/2018           RIAVNZ  Norte da Vista Alegre   \n",
       "6248      18230        31/7/2018           RIAVNZ  Norte da Vista Alegre   \n",
       "6249      18231        31/7/2018           RIAVNZ  Norte da Vista Alegre   \n",
       "6715      17990         5/6/2018           RIAVNZ  Norte da Vista Alegre   \n",
       "6716      17991         5/6/2018           RIAVNZ  Norte da Vista Alegre   \n",
       "6776      18082        26/6/2018           RIAVNZ  Norte da Vista Alegre   \n",
       "6777      18083        26/6/2018           RIAVNZ  Norte da Vista Alegre   \n",
       "\n",
       "               Espécie E.coli (NMP/100G)  \n",
       "113     Ostra-japonesa               330  \n",
       "381     Ostra-japonesa               170  \n",
       "818     Ostra-japonesa               <18  \n",
       "966     Ostra-japonesa              7900  \n",
       "1348    Ostra-japonesa              2200  \n",
       "1377    Ostra-japonesa              3300  \n",
       "1928    Ostra-japonesa               <18  \n",
       "2307    Ostra-japonesa                45  \n",
       "2652    Ostra-japonesa              1300  \n",
       "2689    Ostra-japonesa               130  \n",
       "2703    Ostra-japonesa               130  \n",
       "2966    Ostra-japonesa               490  \n",
       "3229    Ostra-japonesa                45  \n",
       "3472    Ostra-japonesa                20  \n",
       "3507    Ostra-japonesa               230  \n",
       "4470  Amêijoa-japonesa              4600  \n",
       "4471          Berbigão              1300  \n",
       "6248  Amêijoa-japonesa              4600  \n",
       "6249          Berbigão              1300  \n",
       "6715          Berbigão             13000  \n",
       "6716  Amêijoa-japonesa             13000  \n",
       "6776          Berbigão              7900  \n",
       "6777  Amêijoa-japonesa             17000  "
      ]
     },
     "execution_count": 83,
     "metadata": {},
     "output_type": "execute_result"
    }
   ],
   "source": [
    "# RIAV NZ doesn´t exist anymore therefore let´s examine it\n",
    "df_micro[df_micro['Zona de Produção']=='RIAVNZ']"
   ]
  },
  {
   "cell_type": "code",
   "execution_count": 84,
   "id": "714dd53b",
   "metadata": {},
   "outputs": [
    {
     "data": {
      "text/plain": [
       "RIAVNZ    23\n",
       "RIAV4      2\n",
       "Name: Zona de Produção, dtype: int64"
      ]
     },
     "execution_count": 84,
     "metadata": {},
     "output_type": "execute_result"
    }
   ],
   "source": [
    "df_micro[(df_micro['Local']=='Bolho da Malhada') |\n",
    "        (df_micro['Local']=='Norte da Vista Alegre')]['Zona de Produção'].value_counts()"
   ]
  },
  {
   "cell_type": "code",
   "execution_count": 85,
   "id": "5d78c43d",
   "metadata": {},
   "outputs": [],
   "source": [
    "# RIAV NZ is the Same as RIAV 4\n",
    "df_micro['Zona de Produção'] = df_micro['Zona de Produção'].str.replace('RIAVNZ','RIAV4')"
   ]
  },
  {
   "cell_type": "code",
   "execution_count": 86,
   "id": "92019fa0",
   "metadata": {},
   "outputs": [],
   "source": [
    "df_micro['Zona de Produção'] = df_micro['Zona de Produção'].str.replace('Riav3','RIAV3')"
   ]
  },
  {
   "cell_type": "code",
   "execution_count": 87,
   "id": "595265c5",
   "metadata": {},
   "outputs": [],
   "source": [
    "df_micro['Zona de Produção'] = df_micro['Zona de Produção'].str.replace('RAIV4','RIAV4')"
   ]
  },
  {
   "cell_type": "code",
   "execution_count": 88,
   "id": "b24d01c9",
   "metadata": {},
   "outputs": [],
   "source": [
    "df_micro['Zona de Produção'] = df_micro['Zona de Produção'].str.replace('RAIV1','RIAV1')"
   ]
  },
  {
   "cell_type": "markdown",
   "id": "db98e117",
   "metadata": {},
   "source": [
    "_OLH_"
   ]
  },
  {
   "cell_type": "code",
   "execution_count": 89,
   "id": "0cfbe108",
   "metadata": {},
   "outputs": [
    {
     "data": {
      "text/plain": [
       "OLH2      278\n",
       "OLH5      244\n",
       "OLH4      235\n",
       "OLH3      220\n",
       "OLH1      179\n",
       "OLHZNV      1\n",
       "Name: Zona de Produção, dtype: int64"
      ]
     },
     "execution_count": 89,
     "metadata": {},
     "output_type": "execute_result"
    }
   ],
   "source": [
    "search_zona('OLH')"
   ]
  },
  {
   "cell_type": "code",
   "execution_count": 90,
   "id": "e071fd93",
   "metadata": {},
   "outputs": [],
   "source": [
    "# OLHZNV doesn´t exist so let´s remove it \n",
    "olhznv = df_micro[df_micro['Zona de Produção']=='OLHZNV']\n",
    "\n",
    "df_micro.drop(olhznv.index,inplace=True)"
   ]
  },
  {
   "cell_type": "markdown",
   "id": "881b0695",
   "metadata": {},
   "source": [
    "_FAR_"
   ]
  },
  {
   "cell_type": "code",
   "execution_count": 91,
   "id": "43e5e40e",
   "metadata": {},
   "outputs": [
    {
     "data": {
      "text/plain": [
       "FAR2      235\n",
       "FAR1      167\n",
       "FARZNV      6\n",
       "Name: Zona de Produção, dtype: int64"
      ]
     },
     "execution_count": 91,
     "metadata": {},
     "output_type": "execute_result"
    }
   ],
   "source": [
    "search_zona('FAR')"
   ]
  },
  {
   "cell_type": "code",
   "execution_count": 92,
   "id": "84b3eed3",
   "metadata": {},
   "outputs": [
    {
     "data": {
      "text/plain": [
       "Barrinha    2\n",
       "Geada       2\n",
       "Deserta     2\n",
       "Name: Local, dtype: int64"
      ]
     },
     "execution_count": 92,
     "metadata": {},
     "output_type": "execute_result"
    }
   ],
   "source": [
    "df_micro[df_micro['Zona de Produção']=='FARZNV']['Local'].value_counts()"
   ]
  },
  {
   "cell_type": "code",
   "execution_count": 93,
   "id": "7c177028",
   "metadata": {},
   "outputs": [
    {
     "data": {
      "text/plain": [
       "Largura                                    192\n",
       "Largura 2                                   18\n",
       "Largura 3                                   10\n",
       "Largura 1                                    8\n",
       "Largura - Esteiro do Ramalhete               2\n",
       "Largura - Regato dos Azeites - Barrinha      2\n",
       "Largura - Cabeço da Barra                    2\n",
       "Barrinha                                     1\n",
       "Name: Local, dtype: int64"
      ]
     },
     "execution_count": 93,
     "metadata": {},
     "output_type": "execute_result"
    }
   ],
   "source": [
    "df_micro[df_micro['Zona de Produção']=='FAR2']['Local'].value_counts()"
   ]
  },
  {
   "cell_type": "code",
   "execution_count": 94,
   "id": "96038769",
   "metadata": {},
   "outputs": [
    {
     "data": {
      "text/plain": [
       "Marchil            151\n",
       "Marchil 1            9\n",
       "Marchil 2            3\n",
       "Largura              2\n",
       "Geada                1\n",
       "Canal do Ladrão      1\n",
       "Name: Local, dtype: int64"
      ]
     },
     "execution_count": 94,
     "metadata": {},
     "output_type": "execute_result"
    }
   ],
   "source": [
    "df_micro[df_micro['Zona de Produção']=='FAR1']['Local'].value_counts()"
   ]
  },
  {
   "cell_type": "code",
   "execution_count": 95,
   "id": "91900a6d",
   "metadata": {},
   "outputs": [],
   "source": [
    "# We don´t known which zona de produção the 'FARZNV' belongs therefore let´s remove it\n",
    "farznv = df_micro[df_micro['Zona de Produção']=='FARZNV']\n",
    "\n",
    "df_micro.drop(farznv.index,inplace=True)"
   ]
  },
  {
   "cell_type": "markdown",
   "id": "c40ec680",
   "metadata": {},
   "source": [
    "_POR_"
   ]
  },
  {
   "cell_type": "code",
   "execution_count": 96,
   "id": "8cd39b08",
   "metadata": {},
   "outputs": [
    {
     "data": {
      "text/plain": [
       "POR2    226\n",
       "POR3     53\n",
       "POR1      3\n",
       "Name: Zona de Produção, dtype: int64"
      ]
     },
     "execution_count": 96,
     "metadata": {},
     "output_type": "execute_result"
    }
   ],
   "source": [
    "search_zona('POR')"
   ]
  },
  {
   "cell_type": "code",
   "execution_count": 97,
   "id": "bef78f3a",
   "metadata": {},
   "outputs": [
    {
     "data": {
      "text/plain": [
       "Rio Arade                                   2\n",
       "Rio Arade - Montante da_x000D_Ponte Nova    1\n",
       "Name: Local, dtype: int64"
      ]
     },
     "execution_count": 97,
     "metadata": {},
     "output_type": "execute_result"
    }
   ],
   "source": [
    "# POR1 doesn´t exist anymore\n",
    "df_micro[df_micro['Zona de Produção']=='POR1']['Local'].value_counts()"
   ]
  },
  {
   "cell_type": "code",
   "execution_count": 98,
   "id": "ccd0d773",
   "metadata": {},
   "outputs": [],
   "source": [
    "# POR1 is POR3\n",
    "df_micro['Zona de Produção'] = df_micro['Zona de Produção'].str.replace('POR1','POR3')"
   ]
  },
  {
   "cell_type": "markdown",
   "id": "4b6ffd6a",
   "metadata": {},
   "source": [
    "_VT_"
   ]
  },
  {
   "cell_type": "code",
   "execution_count": 99,
   "id": "792d9632",
   "metadata": {},
   "outputs": [
    {
     "data": {
      "text/plain": [
       "VT     33\n",
       "VT1    33\n",
       "Name: Zona de Produção, dtype: int64"
      ]
     },
     "execution_count": 99,
     "metadata": {},
     "output_type": "execute_result"
    }
   ],
   "source": [
    "search_zona('VT')"
   ]
  },
  {
   "cell_type": "code",
   "execution_count": 100,
   "id": "1bc200e6",
   "metadata": {},
   "outputs": [],
   "source": [
    "df_micro.loc[df_micro['Zona de Produção'].isin(['VT1']),'Zona de Produção'] = 'VT'"
   ]
  },
  {
   "cell_type": "markdown",
   "id": "4339123c",
   "metadata": {},
   "source": [
    "_LAG_"
   ]
  },
  {
   "cell_type": "code",
   "execution_count": 101,
   "id": "352f7f5c",
   "metadata": {},
   "outputs": [
    {
     "data": {
      "text/plain": [
       "LAG     201\n",
       "LAG1     15\n",
       "Name: Zona de Produção, dtype: int64"
      ]
     },
     "execution_count": 101,
     "metadata": {},
     "output_type": "execute_result"
    }
   ],
   "source": [
    "search_zona('LAG')"
   ]
  },
  {
   "cell_type": "code",
   "execution_count": 102,
   "id": "31ee7c20",
   "metadata": {},
   "outputs": [],
   "source": [
    "df_micro.loc[df_micro['Zona de Produção'].isin(['LAG1']),'Zona de Produção'] = 'LAG'"
   ]
  },
  {
   "cell_type": "markdown",
   "id": "2d3a82b9",
   "metadata": {},
   "source": [
    "_FUZ_"
   ]
  },
  {
   "cell_type": "code",
   "execution_count": 103,
   "id": "a85a740b",
   "metadata": {},
   "outputs": [
    {
     "data": {
      "text/plain": [
       "FUZ     144\n",
       "FUZ1     85\n",
       "Name: Zona de Produção, dtype: int64"
      ]
     },
     "execution_count": 103,
     "metadata": {},
     "output_type": "execute_result"
    }
   ],
   "source": [
    "search_zona('FUZ')"
   ]
  },
  {
   "cell_type": "code",
   "execution_count": 104,
   "id": "3176ece9",
   "metadata": {},
   "outputs": [],
   "source": [
    "df_micro.loc[df_micro['Zona de Produção'].isin(['FUZ1']),'Zona de Produção'] = 'FUZ'"
   ]
  },
  {
   "cell_type": "markdown",
   "id": "a0e98f08",
   "metadata": {},
   "source": [
    "_TAV_"
   ]
  },
  {
   "cell_type": "code",
   "execution_count": 105,
   "id": "654ade61",
   "metadata": {},
   "outputs": [
    {
     "data": {
      "text/plain": [
       "TAV     205\n",
       "TAV2     87\n",
       "TAV1     13\n",
       "Name: Zona de Produção, dtype: int64"
      ]
     },
     "execution_count": 105,
     "metadata": {},
     "output_type": "execute_result"
    }
   ],
   "source": [
    "search_zona('TAV')"
   ]
  },
  {
   "cell_type": "code",
   "execution_count": 106,
   "id": "6e697556",
   "metadata": {},
   "outputs": [],
   "source": [
    "df_micro.loc[df_micro['Zona de Produção'].isin(['TAV2',\n",
    "                                               'TAV1']),'Zona de Produção'] = 'TAV'"
   ]
  },
  {
   "cell_type": "markdown",
   "id": "3079b69b",
   "metadata": {},
   "source": [
    "_Zonas de Produção With Values less then 10 counts_"
   ]
  },
  {
   "cell_type": "code",
   "execution_count": 107,
   "id": "9a52f75d",
   "metadata": {},
   "outputs": [
    {
     "data": {
      "text/plain": [
       "Berbigão             7\n",
       "L7C2                 6\n",
       "FAR ZNV              6\n",
       "L7                   5\n",
       "EMN-NZ               5\n",
       "POR1                 3\n",
       "RIAV 1               2\n",
       "RIAV 2               2\n",
       "RIAV 3               2\n",
       "RAIV4                2\n",
       "RAIV1                1\n",
       "OLH ZNV              1\n",
       "Corte das Freiras    1\n",
       "ERM                  1\n",
       "Riav3                1\n",
       "VRSA/Tav1            1\n",
       "Aguda                1\n",
       "Labruje              1\n",
       "EDS1                 1\n",
       "Name: Zona de Produção, dtype: int64"
      ]
     },
     "execution_count": 107,
     "metadata": {},
     "output_type": "execute_result"
    }
   ],
   "source": [
    "counts_zona[counts_zona <10]"
   ]
  },
  {
   "cell_type": "code",
   "execution_count": 108,
   "id": "e3dd5fd4",
   "metadata": {},
   "outputs": [
    {
     "data": {
      "text/html": [
       "<div>\n",
       "<style scoped>\n",
       "    .dataframe tbody tr th:only-of-type {\n",
       "        vertical-align: middle;\n",
       "    }\n",
       "\n",
       "    .dataframe tbody tr th {\n",
       "        vertical-align: top;\n",
       "    }\n",
       "\n",
       "    .dataframe thead th {\n",
       "        text-align: right;\n",
       "    }\n",
       "</style>\n",
       "<table border=\"1\" class=\"dataframe\">\n",
       "  <thead>\n",
       "    <tr style=\"text-align: right;\">\n",
       "      <th></th>\n",
       "      <th>No Amostra</th>\n",
       "      <th>Data de Colheita</th>\n",
       "      <th>Zona de Produção</th>\n",
       "      <th>Local</th>\n",
       "      <th>Espécie</th>\n",
       "      <th>E.coli (NMP/100G)</th>\n",
       "    </tr>\n",
       "  </thead>\n",
       "  <tbody>\n",
       "    <tr>\n",
       "      <th>445</th>\n",
       "      <td>Berbigão</td>\n",
       "      <td>Berbigão</td>\n",
       "      <td>Berbigão</td>\n",
       "      <td>Berbigão</td>\n",
       "      <td>Berbigão</td>\n",
       "      <td>Berbigão</td>\n",
       "    </tr>\n",
       "    <tr>\n",
       "      <th>981</th>\n",
       "      <td>Berbigão</td>\n",
       "      <td>Berbigão</td>\n",
       "      <td>Berbigão</td>\n",
       "      <td>Berbigão</td>\n",
       "      <td>Berbigão</td>\n",
       "      <td>Berbigão</td>\n",
       "    </tr>\n",
       "    <tr>\n",
       "      <th>1448</th>\n",
       "      <td>Berbigão</td>\n",
       "      <td>Berbigão</td>\n",
       "      <td>Berbigão</td>\n",
       "      <td>Berbigão</td>\n",
       "      <td>Berbigão</td>\n",
       "      <td>Berbigão</td>\n",
       "    </tr>\n",
       "    <tr>\n",
       "      <th>2012</th>\n",
       "      <td>Berbigão</td>\n",
       "      <td>Berbigão</td>\n",
       "      <td>Berbigão</td>\n",
       "      <td>Berbigão</td>\n",
       "      <td>Berbigão</td>\n",
       "      <td>Berbigão</td>\n",
       "    </tr>\n",
       "    <tr>\n",
       "      <th>2099</th>\n",
       "      <td>Berbigão</td>\n",
       "      <td>Berbigão</td>\n",
       "      <td>Berbigão</td>\n",
       "      <td>Berbigão</td>\n",
       "      <td>Berbigão</td>\n",
       "      <td>Berbigão</td>\n",
       "    </tr>\n",
       "    <tr>\n",
       "      <th>2151</th>\n",
       "      <td>Berbigão</td>\n",
       "      <td>Berbigão</td>\n",
       "      <td>Berbigão</td>\n",
       "      <td>Berbigão</td>\n",
       "      <td>Berbigão</td>\n",
       "      <td>Berbigão</td>\n",
       "    </tr>\n",
       "    <tr>\n",
       "      <th>3086</th>\n",
       "      <td>Berbigão</td>\n",
       "      <td>Berbigão</td>\n",
       "      <td>Berbigão</td>\n",
       "      <td>Berbigão</td>\n",
       "      <td>Berbigão</td>\n",
       "      <td>Berbigão</td>\n",
       "    </tr>\n",
       "  </tbody>\n",
       "</table>\n",
       "</div>"
      ],
      "text/plain": [
       "     No Amostra Data de Colheita Zona de Produção     Local   Espécie  \\\n",
       "445    Berbigão         Berbigão         Berbigão  Berbigão  Berbigão   \n",
       "981    Berbigão         Berbigão         Berbigão  Berbigão  Berbigão   \n",
       "1448   Berbigão         Berbigão         Berbigão  Berbigão  Berbigão   \n",
       "2012   Berbigão         Berbigão         Berbigão  Berbigão  Berbigão   \n",
       "2099   Berbigão         Berbigão         Berbigão  Berbigão  Berbigão   \n",
       "2151   Berbigão         Berbigão         Berbigão  Berbigão  Berbigão   \n",
       "3086   Berbigão         Berbigão         Berbigão  Berbigão  Berbigão   \n",
       "\n",
       "     E.coli (NMP/100G)  \n",
       "445           Berbigão  \n",
       "981           Berbigão  \n",
       "1448          Berbigão  \n",
       "2012          Berbigão  \n",
       "2099          Berbigão  \n",
       "2151          Berbigão  \n",
       "3086          Berbigão  "
      ]
     },
     "execution_count": 108,
     "metadata": {},
     "output_type": "execute_result"
    }
   ],
   "source": [
    "# Berbigão\n",
    "berg_zona = df_micro[df_micro['Zona de Produção']=='Berbigão']\n",
    "berg_zona"
   ]
  },
  {
   "cell_type": "code",
   "execution_count": 109,
   "id": "371919f4",
   "metadata": {},
   "outputs": [],
   "source": [
    "df_micro.drop(berg_zona.index,inplace=True)"
   ]
  },
  {
   "cell_type": "code",
   "execution_count": 110,
   "id": "ea026162",
   "metadata": {},
   "outputs": [
    {
     "data": {
      "text/html": [
       "<div>\n",
       "<style scoped>\n",
       "    .dataframe tbody tr th:only-of-type {\n",
       "        vertical-align: middle;\n",
       "    }\n",
       "\n",
       "    .dataframe tbody tr th {\n",
       "        vertical-align: top;\n",
       "    }\n",
       "\n",
       "    .dataframe thead th {\n",
       "        text-align: right;\n",
       "    }\n",
       "</style>\n",
       "<table border=\"1\" class=\"dataframe\">\n",
       "  <thead>\n",
       "    <tr style=\"text-align: right;\">\n",
       "      <th></th>\n",
       "      <th>No Amostra</th>\n",
       "      <th>Data de Colheita</th>\n",
       "      <th>Zona de Produção</th>\n",
       "      <th>Local</th>\n",
       "      <th>Espécie</th>\n",
       "      <th>E.coli (NMP/100G)</th>\n",
       "    </tr>\n",
       "  </thead>\n",
       "  <tbody>\n",
       "    <tr>\n",
       "      <th>4776</th>\n",
       "      <td>16247</td>\n",
       "      <td>13/12/2016</td>\n",
       "      <td>CortedasFreiras</td>\n",
       "      <td>L0258</td>\n",
       "      <td>Ostra-japonesa</td>\n",
       "      <td>460</td>\n",
       "    </tr>\n",
       "  </tbody>\n",
       "</table>\n",
       "</div>"
      ],
      "text/plain": [
       "     No Amostra Data de Colheita Zona de Produção  Local         Espécie  \\\n",
       "4776      16247       13/12/2016  CortedasFreiras  L0258  Ostra-japonesa   \n",
       "\n",
       "     E.coli (NMP/100G)  \n",
       "4776               460  "
      ]
     },
     "execution_count": 110,
     "metadata": {},
     "output_type": "execute_result"
    }
   ],
   "source": [
    "# CortedasFreiras\n",
    "df_micro[df_micro['Zona de Produção']=='CortedasFreiras']"
   ]
  },
  {
   "cell_type": "code",
   "execution_count": 111,
   "id": "ab059c18",
   "metadata": {},
   "outputs": [],
   "source": [
    "mask_cortes = (df_micro['Zona de Produção'] == 'CortedasFreiras')\n",
    "\n",
    "df_micro.loc[mask_cortes, 'Zona de Produção'] = df_micro.loc[mask_cortes, 'Zona de Produção'].str.replace('CortedasFreiras', 'RIAV4')"
   ]
  },
  {
   "cell_type": "code",
   "execution_count": 112,
   "id": "1c65697f",
   "metadata": {},
   "outputs": [],
   "source": [
    "# ERM\n",
    "df_micro['Zona de Produção'] = df_micro['Zona de Produção'].str.replace('ERM','EMR')"
   ]
  },
  {
   "cell_type": "code",
   "execution_count": 113,
   "id": "acfa41a7",
   "metadata": {},
   "outputs": [],
   "source": [
    "# VRSA/Tav1\n",
    "df_micro['Zona de Produção'] = df_micro['Zona de Produção'].str.replace('VRSA/Tav1','TAV')"
   ]
  },
  {
   "cell_type": "code",
   "execution_count": 114,
   "id": "02979a54",
   "metadata": {},
   "outputs": [
    {
     "data": {
      "text/html": [
       "<div>\n",
       "<style scoped>\n",
       "    .dataframe tbody tr th:only-of-type {\n",
       "        vertical-align: middle;\n",
       "    }\n",
       "\n",
       "    .dataframe tbody tr th {\n",
       "        vertical-align: top;\n",
       "    }\n",
       "\n",
       "    .dataframe thead th {\n",
       "        text-align: right;\n",
       "    }\n",
       "</style>\n",
       "<table border=\"1\" class=\"dataframe\">\n",
       "  <thead>\n",
       "    <tr style=\"text-align: right;\">\n",
       "      <th></th>\n",
       "      <th>No Amostra</th>\n",
       "      <th>Data de Colheita</th>\n",
       "      <th>Zona de Produção</th>\n",
       "      <th>Local</th>\n",
       "      <th>Espécie</th>\n",
       "      <th>E.coli (NMP/100G)</th>\n",
       "    </tr>\n",
       "  </thead>\n",
       "  <tbody>\n",
       "    <tr>\n",
       "      <th>7065</th>\n",
       "      <td>15374</td>\n",
       "      <td>11-05-2016</td>\n",
       "      <td>Aguda</td>\n",
       "      <td>L0258</td>\n",
       "      <td>Amêijoa-branca</td>\n",
       "      <td>&lt;3500</td>\n",
       "    </tr>\n",
       "  </tbody>\n",
       "</table>\n",
       "</div>"
      ],
      "text/plain": [
       "     No Amostra Data de Colheita Zona de Produção  Local         Espécie  \\\n",
       "7065      15374       11-05-2016            Aguda  L0258  Amêijoa-branca   \n",
       "\n",
       "     E.coli (NMP/100G)  \n",
       "7065             <3500  "
      ]
     },
     "execution_count": 114,
     "metadata": {},
     "output_type": "execute_result"
    }
   ],
   "source": [
    "# Aguda\n",
    "df_micro[df_micro['Zona de Produção']=='Aguda']"
   ]
  },
  {
   "cell_type": "code",
   "execution_count": 115,
   "id": "767db7e9",
   "metadata": {},
   "outputs": [],
   "source": [
    "df_micro['Zona de Produção'] = df_micro['Zona de Produção'].str.replace('Aguda','L2')"
   ]
  },
  {
   "cell_type": "code",
   "execution_count": 116,
   "id": "efd9104f",
   "metadata": {},
   "outputs": [
    {
     "data": {
      "text/html": [
       "<div>\n",
       "<style scoped>\n",
       "    .dataframe tbody tr th:only-of-type {\n",
       "        vertical-align: middle;\n",
       "    }\n",
       "\n",
       "    .dataframe tbody tr th {\n",
       "        vertical-align: top;\n",
       "    }\n",
       "\n",
       "    .dataframe thead th {\n",
       "        text-align: right;\n",
       "    }\n",
       "</style>\n",
       "<table border=\"1\" class=\"dataframe\">\n",
       "  <thead>\n",
       "    <tr style=\"text-align: right;\">\n",
       "      <th></th>\n",
       "      <th>No Amostra</th>\n",
       "      <th>Data de Colheita</th>\n",
       "      <th>Zona de Produção</th>\n",
       "      <th>Local</th>\n",
       "      <th>Espécie</th>\n",
       "      <th>E.coli (NMP/100G)</th>\n",
       "    </tr>\n",
       "  </thead>\n",
       "  <tbody>\n",
       "    <tr>\n",
       "      <th>7067</th>\n",
       "      <td>15376</td>\n",
       "      <td>11-05-2016</td>\n",
       "      <td>Labruje</td>\n",
       "      <td>L0258</td>\n",
       "      <td>Amêijoa-branca</td>\n",
       "      <td>5400</td>\n",
       "    </tr>\n",
       "  </tbody>\n",
       "</table>\n",
       "</div>"
      ],
      "text/plain": [
       "     No Amostra Data de Colheita Zona de Produção  Local         Espécie  \\\n",
       "7067      15376       11-05-2016          Labruje  L0258  Amêijoa-branca   \n",
       "\n",
       "     E.coli (NMP/100G)  \n",
       "7067              5400  "
      ]
     },
     "execution_count": 116,
     "metadata": {},
     "output_type": "execute_result"
    }
   ],
   "source": [
    "# Labruje\n",
    "df_micro[df_micro['Zona de Produção']=='Labruje']"
   ]
  },
  {
   "cell_type": "code",
   "execution_count": 117,
   "id": "6c6bc9ee",
   "metadata": {},
   "outputs": [],
   "source": [
    "df_micro['Zona de Produção'] = df_micro['Zona de Produção'].str.replace('Labruje','L2')"
   ]
  },
  {
   "cell_type": "markdown",
   "id": "8ff15026",
   "metadata": {},
   "source": [
    "## Dealing with LQ Values"
   ]
  },
  {
   "cell_type": "code",
   "execution_count": 118,
   "id": "0660662c",
   "metadata": {},
   "outputs": [
    {
     "data": {
      "text/plain": [
       "No Amostra            0\n",
       "Data de Colheita      0\n",
       "Zona de Produção      0\n",
       "Local                12\n",
       "Espécie               0\n",
       "E.coli (NMP/100G)     0\n",
       "dtype: int64"
      ]
     },
     "execution_count": 118,
     "metadata": {},
     "output_type": "execute_result"
    }
   ],
   "source": [
    "df_micro.isnull().sum()"
   ]
  },
  {
   "cell_type": "code",
   "execution_count": 119,
   "id": "f8b5b165",
   "metadata": {},
   "outputs": [
    {
     "data": {
      "text/plain": [
       "<18      1191\n",
       "< 18      478\n",
       "<20        52\n",
       "< 20       16\n",
       "<3500       1\n",
       "Name: E.coli (NMP/100G), dtype: int64"
      ]
     },
     "execution_count": 119,
     "metadata": {},
     "output_type": "execute_result"
    }
   ],
   "source": [
    "df_micro[(df_micro['E.coli (NMP/100G)'].str.contains('<'))|\n",
    "        (df_micro['E.coli (NMP/100G)'].str.contains('LQ'))]['E.coli (NMP/100G)'].value_counts()"
   ]
  },
  {
   "cell_type": "code",
   "execution_count": 120,
   "id": "f6c9c584",
   "metadata": {},
   "outputs": [
    {
     "data": {
      "text/html": [
       "<div>\n",
       "<style scoped>\n",
       "    .dataframe tbody tr th:only-of-type {\n",
       "        vertical-align: middle;\n",
       "    }\n",
       "\n",
       "    .dataframe tbody tr th {\n",
       "        vertical-align: top;\n",
       "    }\n",
       "\n",
       "    .dataframe thead th {\n",
       "        text-align: right;\n",
       "    }\n",
       "</style>\n",
       "<table border=\"1\" class=\"dataframe\">\n",
       "  <thead>\n",
       "    <tr style=\"text-align: right;\">\n",
       "      <th></th>\n",
       "      <th>No Amostra</th>\n",
       "      <th>Data de Colheita</th>\n",
       "      <th>Zona de Produção</th>\n",
       "      <th>Local</th>\n",
       "      <th>Espécie</th>\n",
       "      <th>E.coli (NMP/100G)</th>\n",
       "    </tr>\n",
       "  </thead>\n",
       "  <tbody>\n",
       "    <tr>\n",
       "      <th>7065</th>\n",
       "      <td>15374</td>\n",
       "      <td>11-05-2016</td>\n",
       "      <td>L2</td>\n",
       "      <td>L0258</td>\n",
       "      <td>Amêijoa-branca</td>\n",
       "      <td>&lt;3500</td>\n",
       "    </tr>\n",
       "  </tbody>\n",
       "</table>\n",
       "</div>"
      ],
      "text/plain": [
       "     No Amostra Data de Colheita Zona de Produção  Local         Espécie  \\\n",
       "7065      15374       11-05-2016               L2  L0258  Amêijoa-branca   \n",
       "\n",
       "     E.coli (NMP/100G)  \n",
       "7065             <3500  "
      ]
     },
     "execution_count": 120,
     "metadata": {},
     "output_type": "execute_result"
    }
   ],
   "source": [
    "# Let´s take a look to the '<3500' value\n",
    "df_micro[df_micro['E.coli (NMP/100G)']=='<3500']"
   ]
  },
  {
   "cell_type": "code",
   "execution_count": 121,
   "id": "ced941a5",
   "metadata": {},
   "outputs": [],
   "source": [
    "# Remove '<' from '<3500'\n",
    "\n",
    "mask = (df_micro['E.coli (NMP/100G)'] == '<3500')\n",
    "\n",
    "df_micro.loc[mask, 'E.coli (NMP/100G)'] = df_micro.loc[mask, 'E.coli (NMP/100G)'].str.replace('<3500', '3500')"
   ]
  },
  {
   "cell_type": "code",
   "execution_count": 122,
   "id": "3a87c028",
   "metadata": {},
   "outputs": [
    {
     "data": {
      "text/html": [
       "<div>\n",
       "<style scoped>\n",
       "    .dataframe tbody tr th:only-of-type {\n",
       "        vertical-align: middle;\n",
       "    }\n",
       "\n",
       "    .dataframe tbody tr th {\n",
       "        vertical-align: top;\n",
       "    }\n",
       "\n",
       "    .dataframe thead th {\n",
       "        text-align: right;\n",
       "    }\n",
       "</style>\n",
       "<table border=\"1\" class=\"dataframe\">\n",
       "  <thead>\n",
       "    <tr style=\"text-align: right;\">\n",
       "      <th></th>\n",
       "      <th>No Amostra</th>\n",
       "      <th>Data de Colheita</th>\n",
       "      <th>Zona de Produção</th>\n",
       "      <th>Local</th>\n",
       "      <th>Espécie</th>\n",
       "      <th>E.coli (NMP/100G)</th>\n",
       "    </tr>\n",
       "  </thead>\n",
       "  <tbody>\n",
       "    <tr>\n",
       "      <th>2</th>\n",
       "      <td>259 /20</td>\n",
       "      <td>06/04/20</td>\n",
       "      <td>LAL</td>\n",
       "      <td>Jangada</td>\n",
       "      <td>Mexilhão</td>\n",
       "      <td>&lt;18</td>\n",
       "    </tr>\n",
       "    <tr>\n",
       "      <th>5</th>\n",
       "      <td>273 /20</td>\n",
       "      <td>14/04/20</td>\n",
       "      <td>LOB</td>\n",
       "      <td>Greijau</td>\n",
       "      <td>Amêijoa-japonesa</td>\n",
       "      <td>&lt;18</td>\n",
       "    </tr>\n",
       "    <tr>\n",
       "      <th>12</th>\n",
       "      <td>280 /20</td>\n",
       "      <td>14/04/20</td>\n",
       "      <td>L6</td>\n",
       "      <td>Comporta</td>\n",
       "      <td>Amêijoa-branca</td>\n",
       "      <td>&lt;18</td>\n",
       "    </tr>\n",
       "    <tr>\n",
       "      <th>18</th>\n",
       "      <td>286 /20</td>\n",
       "      <td>20/04/20</td>\n",
       "      <td>L6</td>\n",
       "      <td>Comporta</td>\n",
       "      <td>Longueirão</td>\n",
       "      <td>&lt;18</td>\n",
       "    </tr>\n",
       "    <tr>\n",
       "      <th>19</th>\n",
       "      <td>287 /20</td>\n",
       "      <td>20/04/20</td>\n",
       "      <td>L6</td>\n",
       "      <td>Comporta</td>\n",
       "      <td>Conquilha</td>\n",
       "      <td>&lt;18</td>\n",
       "    </tr>\n",
       "    <tr>\n",
       "      <th>...</th>\n",
       "      <td>...</td>\n",
       "      <td>...</td>\n",
       "      <td>...</td>\n",
       "      <td>...</td>\n",
       "      <td>...</td>\n",
       "      <td>...</td>\n",
       "    </tr>\n",
       "    <tr>\n",
       "      <th>9393</th>\n",
       "      <td>418/2019</td>\n",
       "      <td>16/9/2019</td>\n",
       "      <td>OLH2</td>\n",
       "      <td>Fortaleza</td>\n",
       "      <td>Ostra-japonesa</td>\n",
       "      <td>&lt;18</td>\n",
       "    </tr>\n",
       "    <tr>\n",
       "      <th>9397</th>\n",
       "      <td>422/2019</td>\n",
       "      <td>16/9/2019</td>\n",
       "      <td>L7c1</td>\n",
       "      <td>Offshore</td>\n",
       "      <td>Mexilhão</td>\n",
       "      <td>&lt;18</td>\n",
       "    </tr>\n",
       "    <tr>\n",
       "      <th>9398</th>\n",
       "      <td>423/2019</td>\n",
       "      <td>17/9/2019</td>\n",
       "      <td>L7a</td>\n",
       "      <td>Aljezur - Amoreira</td>\n",
       "      <td>Mexilhão</td>\n",
       "      <td>&lt;18</td>\n",
       "    </tr>\n",
       "    <tr>\n",
       "      <th>9402</th>\n",
       "      <td>428/2019</td>\n",
       "      <td>24/09/2019</td>\n",
       "      <td>L7c2</td>\n",
       "      <td>Porto de Mós - Cultura</td>\n",
       "      <td>Mexilhão</td>\n",
       "      <td>&lt;18</td>\n",
       "    </tr>\n",
       "    <tr>\n",
       "      <th>9406</th>\n",
       "      <td>432/2019</td>\n",
       "      <td>30/09/2019</td>\n",
       "      <td>OLH2</td>\n",
       "      <td>Fortaleza</td>\n",
       "      <td>Ostra-japonesa</td>\n",
       "      <td>&lt;18</td>\n",
       "    </tr>\n",
       "  </tbody>\n",
       "</table>\n",
       "<p>1737 rows × 6 columns</p>\n",
       "</div>"
      ],
      "text/plain": [
       "     No Amostra Data de Colheita Zona de Produção                   Local  \\\n",
       "2       259 /20         06/04/20              LAL                 Jangada   \n",
       "5       273 /20         14/04/20              LOB                 Greijau   \n",
       "12      280 /20         14/04/20               L6                Comporta   \n",
       "18      286 /20         20/04/20               L6                Comporta   \n",
       "19      287 /20         20/04/20               L6                Comporta   \n",
       "...         ...              ...              ...                     ...   \n",
       "9393   418/2019        16/9/2019             OLH2               Fortaleza   \n",
       "9397   422/2019        16/9/2019             L7c1                Offshore   \n",
       "9398   423/2019        17/9/2019              L7a      Aljezur - Amoreira   \n",
       "9402   428/2019       24/09/2019             L7c2  Porto de Mós - Cultura   \n",
       "9406   432/2019       30/09/2019             OLH2               Fortaleza   \n",
       "\n",
       "               Espécie E.coli (NMP/100G)  \n",
       "2             Mexilhão               <18  \n",
       "5     Amêijoa-japonesa               <18  \n",
       "12      Amêijoa-branca               <18  \n",
       "18          Longueirão               <18  \n",
       "19           Conquilha               <18  \n",
       "...                ...               ...  \n",
       "9393    Ostra-japonesa               <18  \n",
       "9397          Mexilhão               <18  \n",
       "9398          Mexilhão               <18  \n",
       "9402          Mexilhão               <18  \n",
       "9406    Ostra-japonesa               <18  \n",
       "\n",
       "[1737 rows x 6 columns]"
      ]
     },
     "execution_count": 122,
     "metadata": {},
     "output_type": "execute_result"
    }
   ],
   "source": [
    "# Replace every values with '<' symbol by 17\n",
    "lq = df_micro[(df_micro['E.coli (NMP/100G)'].str.contains('<'))|\n",
    "        (df_micro['E.coli (NMP/100G)'].str.contains('LQ'))]\n",
    "\n",
    "lq"
   ]
  },
  {
   "cell_type": "code",
   "execution_count": 123,
   "id": "728cb1a5",
   "metadata": {},
   "outputs": [],
   "source": [
    "df_micro.loc[lq.index,'E.coli (NMP/100G)'] = '17'"
   ]
  },
  {
   "cell_type": "code",
   "execution_count": 126,
   "id": "96bc74fa",
   "metadata": {},
   "outputs": [
    {
     "data": {
      "text/html": [
       "<div>\n",
       "<style scoped>\n",
       "    .dataframe tbody tr th:only-of-type {\n",
       "        vertical-align: middle;\n",
       "    }\n",
       "\n",
       "    .dataframe tbody tr th {\n",
       "        vertical-align: top;\n",
       "    }\n",
       "\n",
       "    .dataframe thead th {\n",
       "        text-align: right;\n",
       "    }\n",
       "</style>\n",
       "<table border=\"1\" class=\"dataframe\">\n",
       "  <thead>\n",
       "    <tr style=\"text-align: right;\">\n",
       "      <th></th>\n",
       "      <th>No Amostra</th>\n",
       "      <th>Data de Colheita</th>\n",
       "      <th>Zona de Produção</th>\n",
       "      <th>Espécie</th>\n",
       "      <th>E.coli (NMP/100G)</th>\n",
       "    </tr>\n",
       "  </thead>\n",
       "  <tbody>\n",
       "    <tr>\n",
       "      <th>0</th>\n",
       "      <td>256 /20</td>\n",
       "      <td>06/04/20</td>\n",
       "      <td>ETJ</td>\n",
       "      <td>Amêijoa-japonesa</td>\n",
       "      <td>13000</td>\n",
       "    </tr>\n",
       "    <tr>\n",
       "      <th>1</th>\n",
       "      <td>257 /20</td>\n",
       "      <td>06/04/20</td>\n",
       "      <td>ETJ</td>\n",
       "      <td>Berbigão</td>\n",
       "      <td>2300</td>\n",
       "    </tr>\n",
       "    <tr>\n",
       "      <th>2</th>\n",
       "      <td>259 /20</td>\n",
       "      <td>06/04/20</td>\n",
       "      <td>LAL</td>\n",
       "      <td>Mexilhão</td>\n",
       "      <td>17</td>\n",
       "    </tr>\n",
       "    <tr>\n",
       "      <th>3</th>\n",
       "      <td>260 /20</td>\n",
       "      <td>06/04/20</td>\n",
       "      <td>LAL</td>\n",
       "      <td>Berbigão</td>\n",
       "      <td>20</td>\n",
       "    </tr>\n",
       "    <tr>\n",
       "      <th>4</th>\n",
       "      <td>272 /20</td>\n",
       "      <td>14/04/20</td>\n",
       "      <td>LOB</td>\n",
       "      <td>Amêijoa-macha</td>\n",
       "      <td>45</td>\n",
       "    </tr>\n",
       "    <tr>\n",
       "      <th>...</th>\n",
       "      <td>...</td>\n",
       "      <td>...</td>\n",
       "      <td>...</td>\n",
       "      <td>...</td>\n",
       "      <td>...</td>\n",
       "    </tr>\n",
       "    <tr>\n",
       "      <th>9404</th>\n",
       "      <td>430/2019</td>\n",
       "      <td>24/09/2019</td>\n",
       "      <td>L7b</td>\n",
       "      <td>Ostra-japonesa</td>\n",
       "      <td>230</td>\n",
       "    </tr>\n",
       "    <tr>\n",
       "      <th>9405</th>\n",
       "      <td>431/2019</td>\n",
       "      <td>30/09/2019</td>\n",
       "      <td>OLH2</td>\n",
       "      <td>Amêijoa-boa</td>\n",
       "      <td>92</td>\n",
       "    </tr>\n",
       "    <tr>\n",
       "      <th>9406</th>\n",
       "      <td>432/2019</td>\n",
       "      <td>30/09/2019</td>\n",
       "      <td>OLH2</td>\n",
       "      <td>Ostra-japonesa</td>\n",
       "      <td>17</td>\n",
       "    </tr>\n",
       "    <tr>\n",
       "      <th>9407</th>\n",
       "      <td>433/2019</td>\n",
       "      <td>30/09/2019</td>\n",
       "      <td>OLH2</td>\n",
       "      <td>Amêijoa-boa</td>\n",
       "      <td>110</td>\n",
       "    </tr>\n",
       "    <tr>\n",
       "      <th>9408</th>\n",
       "      <td>434/2019</td>\n",
       "      <td>30/09/2019</td>\n",
       "      <td>OLH2</td>\n",
       "      <td>Ostra-japonesa</td>\n",
       "      <td>45</td>\n",
       "    </tr>\n",
       "  </tbody>\n",
       "</table>\n",
       "<p>9259 rows × 5 columns</p>\n",
       "</div>"
      ],
      "text/plain": [
       "     No Amostra Data de Colheita Zona de Produção           Espécie  \\\n",
       "0       256 /20         06/04/20              ETJ  Amêijoa-japonesa   \n",
       "1       257 /20         06/04/20              ETJ          Berbigão   \n",
       "2       259 /20         06/04/20              LAL          Mexilhão   \n",
       "3       260 /20         06/04/20              LAL          Berbigão   \n",
       "4       272 /20         14/04/20              LOB     Amêijoa-macha   \n",
       "...         ...              ...              ...               ...   \n",
       "9404   430/2019       24/09/2019              L7b    Ostra-japonesa   \n",
       "9405   431/2019       30/09/2019             OLH2       Amêijoa-boa   \n",
       "9406   432/2019       30/09/2019             OLH2    Ostra-japonesa   \n",
       "9407   433/2019       30/09/2019             OLH2       Amêijoa-boa   \n",
       "9408   434/2019       30/09/2019             OLH2    Ostra-japonesa   \n",
       "\n",
       "     E.coli (NMP/100G)  \n",
       "0                13000  \n",
       "1                 2300  \n",
       "2                   17  \n",
       "3                   20  \n",
       "4                   45  \n",
       "...                ...  \n",
       "9404               230  \n",
       "9405                92  \n",
       "9406                17  \n",
       "9407               110  \n",
       "9408                45  \n",
       "\n",
       "[9259 rows x 5 columns]"
      ]
     },
     "execution_count": 126,
     "metadata": {},
     "output_type": "execute_result"
    }
   ],
   "source": [
    "df_micro = df_micro[['No Amostra','Data de Colheita','Zona de Produção','Espécie','E.coli (NMP/100G)']]\n",
    "df_micro"
   ]
  }
 ],
 "metadata": {
  "kernelspec": {
   "display_name": "Python 3 (ipykernel)",
   "language": "python",
   "name": "python3"
  },
  "language_info": {
   "codemirror_mode": {
    "name": "ipython",
    "version": 3
   },
   "file_extension": ".py",
   "mimetype": "text/x-python",
   "name": "python",
   "nbconvert_exporter": "python",
   "pygments_lexer": "ipython3",
   "version": "3.9.13"
  }
 },
 "nbformat": 4,
 "nbformat_minor": 5
}
