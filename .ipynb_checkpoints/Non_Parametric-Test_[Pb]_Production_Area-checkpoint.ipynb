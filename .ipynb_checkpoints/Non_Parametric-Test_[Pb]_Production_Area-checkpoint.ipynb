{
 "cells": [
  {
   "cell_type": "code",
   "execution_count": 2,
   "id": "9874f43c",
   "metadata": {},
   "outputs": [],
   "source": [
    "import pandas as pd\n",
    "import numpy as np\n",
    "import seaborn as sns\n",
    "import matplotlib.pyplot as plt\n",
    "import warnings\n",
    "warnings.filterwarnings('ignore')\n",
    "\n",
    "from itertools import combinations\n",
    "from scipy.stats import mannwhitneyu"
   ]
  },
  {
   "cell_type": "code",
   "execution_count": 3,
   "id": "b5c5f629",
   "metadata": {},
   "outputs": [
    {
     "data": {
      "text/html": [
       "<div>\n",
       "<style scoped>\n",
       "    .dataframe tbody tr th:only-of-type {\n",
       "        vertical-align: middle;\n",
       "    }\n",
       "\n",
       "    .dataframe tbody tr th {\n",
       "        vertical-align: top;\n",
       "    }\n",
       "\n",
       "    .dataframe thead th {\n",
       "        text-align: right;\n",
       "    }\n",
       "</style>\n",
       "<table border=\"1\" class=\"dataframe\">\n",
       "  <thead>\n",
       "    <tr style=\"text-align: right;\">\n",
       "      <th></th>\n",
       "      <th>No Amostra</th>\n",
       "      <th>Data de colheita</th>\n",
       "      <th>Zona de Produção</th>\n",
       "      <th>Espécie</th>\n",
       "      <th>Cd (mg/kg)</th>\n",
       "      <th>Hg (mg/kg)</th>\n",
       "      <th>Pb (mg/kg)</th>\n",
       "      <th>E.coli (NMP/100G)</th>\n",
       "      <th>Day</th>\n",
       "      <th>Month</th>\n",
       "      <th>Year</th>\n",
       "    </tr>\n",
       "  </thead>\n",
       "  <tbody>\n",
       "    <tr>\n",
       "      <th>0</th>\n",
       "      <td>362/21</td>\n",
       "      <td>13/04/2021</td>\n",
       "      <td>ETJ</td>\n",
       "      <td>Pé-de-burro</td>\n",
       "      <td>0.24</td>\n",
       "      <td>0.028</td>\n",
       "      <td>0.24</td>\n",
       "      <td>NaN</td>\n",
       "      <td>13</td>\n",
       "      <td>Apr</td>\n",
       "      <td>2021</td>\n",
       "    </tr>\n",
       "    <tr>\n",
       "      <th>1</th>\n",
       "      <td>363/21</td>\n",
       "      <td>13/04/2021</td>\n",
       "      <td>ESD1</td>\n",
       "      <td>Ostra-portuguesa</td>\n",
       "      <td>0.50</td>\n",
       "      <td>0.026</td>\n",
       "      <td>0.12</td>\n",
       "      <td>NaN</td>\n",
       "      <td>13</td>\n",
       "      <td>Apr</td>\n",
       "      <td>2021</td>\n",
       "    </tr>\n",
       "    <tr>\n",
       "      <th>2</th>\n",
       "      <td>366/21</td>\n",
       "      <td>13/04/2021</td>\n",
       "      <td>RIAV4</td>\n",
       "      <td>Ostra-japonesa</td>\n",
       "      <td>0.18</td>\n",
       "      <td>0.045</td>\n",
       "      <td>0.14</td>\n",
       "      <td>NaN</td>\n",
       "      <td>13</td>\n",
       "      <td>Apr</td>\n",
       "      <td>2021</td>\n",
       "    </tr>\n",
       "    <tr>\n",
       "      <th>3</th>\n",
       "      <td>369/21</td>\n",
       "      <td>19/04/2021</td>\n",
       "      <td>LOB</td>\n",
       "      <td>Amêijoa-relógio</td>\n",
       "      <td>0.09</td>\n",
       "      <td>0.011</td>\n",
       "      <td>0.70</td>\n",
       "      <td>NaN</td>\n",
       "      <td>19</td>\n",
       "      <td>Apr</td>\n",
       "      <td>2021</td>\n",
       "    </tr>\n",
       "    <tr>\n",
       "      <th>4</th>\n",
       "      <td>376/21</td>\n",
       "      <td>20/04/2021</td>\n",
       "      <td>L7c2</td>\n",
       "      <td>Amêijoa-boa</td>\n",
       "      <td>0.06</td>\n",
       "      <td>0.030</td>\n",
       "      <td>0.02</td>\n",
       "      <td>NaN</td>\n",
       "      <td>20</td>\n",
       "      <td>Apr</td>\n",
       "      <td>2021</td>\n",
       "    </tr>\n",
       "    <tr>\n",
       "      <th>...</th>\n",
       "      <td>...</td>\n",
       "      <td>...</td>\n",
       "      <td>...</td>\n",
       "      <td>...</td>\n",
       "      <td>...</td>\n",
       "      <td>...</td>\n",
       "      <td>...</td>\n",
       "      <td>...</td>\n",
       "      <td>...</td>\n",
       "      <td>...</td>\n",
       "      <td>...</td>\n",
       "    </tr>\n",
       "    <tr>\n",
       "      <th>1812</th>\n",
       "      <td>1044/22</td>\n",
       "      <td>28/09/2022</td>\n",
       "      <td>RIAV1</td>\n",
       "      <td>Longueirão</td>\n",
       "      <td>0.13</td>\n",
       "      <td>0.016</td>\n",
       "      <td>0.14</td>\n",
       "      <td>20.0</td>\n",
       "      <td>28</td>\n",
       "      <td>Sept</td>\n",
       "      <td>2022</td>\n",
       "    </tr>\n",
       "    <tr>\n",
       "      <th>1813</th>\n",
       "      <td>1045/22</td>\n",
       "      <td>28/09/2022</td>\n",
       "      <td>RIAV1</td>\n",
       "      <td>Berbigão</td>\n",
       "      <td>0.16</td>\n",
       "      <td>0.030</td>\n",
       "      <td>0.10</td>\n",
       "      <td>20.0</td>\n",
       "      <td>28</td>\n",
       "      <td>Sept</td>\n",
       "      <td>2022</td>\n",
       "    </tr>\n",
       "    <tr>\n",
       "      <th>1814</th>\n",
       "      <td>1046/22</td>\n",
       "      <td>28/09/2022</td>\n",
       "      <td>RIAV1</td>\n",
       "      <td>Amêijoa-japonesa</td>\n",
       "      <td>0.26</td>\n",
       "      <td>0.017</td>\n",
       "      <td>0.06</td>\n",
       "      <td>NaN</td>\n",
       "      <td>28</td>\n",
       "      <td>Sept</td>\n",
       "      <td>2022</td>\n",
       "    </tr>\n",
       "    <tr>\n",
       "      <th>1815</th>\n",
       "      <td>1047/22</td>\n",
       "      <td>28/09/2022</td>\n",
       "      <td>L1</td>\n",
       "      <td>Mexilhão</td>\n",
       "      <td>0.28</td>\n",
       "      <td>0.012</td>\n",
       "      <td>0.18</td>\n",
       "      <td>NaN</td>\n",
       "      <td>28</td>\n",
       "      <td>Sept</td>\n",
       "      <td>2022</td>\n",
       "    </tr>\n",
       "    <tr>\n",
       "      <th>1816</th>\n",
       "      <td>1051/22</td>\n",
       "      <td>28/09/2022</td>\n",
       "      <td>ESD2</td>\n",
       "      <td>Longueirão</td>\n",
       "      <td>0.07</td>\n",
       "      <td>0.020</td>\n",
       "      <td>0.11</td>\n",
       "      <td>NaN</td>\n",
       "      <td>28</td>\n",
       "      <td>Sept</td>\n",
       "      <td>2022</td>\n",
       "    </tr>\n",
       "  </tbody>\n",
       "</table>\n",
       "<p>1817 rows × 11 columns</p>\n",
       "</div>"
      ],
      "text/plain": [
       "     No Amostra Data de colheita Zona de Produção           Espécie  \\\n",
       "0        362/21       13/04/2021              ETJ       Pé-de-burro   \n",
       "1        363/21       13/04/2021             ESD1  Ostra-portuguesa   \n",
       "2        366/21       13/04/2021            RIAV4    Ostra-japonesa   \n",
       "3        369/21       19/04/2021              LOB   Amêijoa-relógio   \n",
       "4        376/21       20/04/2021             L7c2       Amêijoa-boa   \n",
       "...         ...              ...              ...               ...   \n",
       "1812    1044/22       28/09/2022            RIAV1        Longueirão   \n",
       "1813    1045/22       28/09/2022            RIAV1          Berbigão   \n",
       "1814    1046/22       28/09/2022            RIAV1  Amêijoa-japonesa   \n",
       "1815    1047/22       28/09/2022               L1          Mexilhão   \n",
       "1816    1051/22       28/09/2022             ESD2        Longueirão   \n",
       "\n",
       "      Cd (mg/kg)  Hg (mg/kg)  Pb (mg/kg)  E.coli (NMP/100G)  Day Month  Year  \n",
       "0           0.24       0.028        0.24                NaN   13   Apr  2021  \n",
       "1           0.50       0.026        0.12                NaN   13   Apr  2021  \n",
       "2           0.18       0.045        0.14                NaN   13   Apr  2021  \n",
       "3           0.09       0.011        0.70                NaN   19   Apr  2021  \n",
       "4           0.06       0.030        0.02                NaN   20   Apr  2021  \n",
       "...          ...         ...         ...                ...  ...   ...   ...  \n",
       "1812        0.13       0.016        0.14               20.0   28  Sept  2022  \n",
       "1813        0.16       0.030        0.10               20.0   28  Sept  2022  \n",
       "1814        0.26       0.017        0.06                NaN   28  Sept  2022  \n",
       "1815        0.28       0.012        0.18                NaN   28  Sept  2022  \n",
       "1816        0.07       0.020        0.11                NaN   28  Sept  2022  \n",
       "\n",
       "[1817 rows x 11 columns]"
      ]
     },
     "execution_count": 3,
     "metadata": {},
     "output_type": "execute_result"
    }
   ],
   "source": [
    "df = pd.read_excel('C:/Users/Administrador/OneDrive\\Ambiente de Trabalho/Article_Organize_Data/Clean_Single_Data.xlsx')\n",
    "df"
   ]
  },
  {
   "cell_type": "markdown",
   "id": "7f7c25ba",
   "metadata": {},
   "source": [
    "# Mann-Whitney U Test\n",
    "\n",
    "Is there a difference in between the distributions of two groups?"
   ]
  },
  {
   "cell_type": "markdown",
   "id": "3feb0369",
   "metadata": {},
   "source": [
    "## [Pb] RIAV"
   ]
  },
  {
   "cell_type": "code",
   "execution_count": 6,
   "id": "afc610f9",
   "metadata": {},
   "outputs": [
    {
     "data": {
      "text/plain": [
       "RIAV3    66\n",
       "RIAV4    65\n",
       "RIAV2    61\n",
       "RIAV1    60\n",
       "Name: Zona de Produção, dtype: int64"
      ]
     },
     "execution_count": 6,
     "metadata": {},
     "output_type": "execute_result"
    }
   ],
   "source": [
    "riav = df[df['Zona de Produção'].str.contains('RIAV')]\n",
    "riav['Zona de Produção'].value_counts()"
   ]
  },
  {
   "cell_type": "markdown",
   "id": "3bb34863",
   "metadata": {},
   "source": [
    "__Kruskal-Wallis__"
   ]
  },
  {
   "cell_type": "code",
   "execution_count": 13,
   "id": "b4766aac",
   "metadata": {},
   "outputs": [
    {
     "name": "stdout",
     "output_type": "stream",
     "text": [
      "Kruskal-Wallis Test Statistic: 0.39672380846938404\n",
      "P-value: 0.9409184448190548\n",
      "Fail to reject the null hypothesis. There is no significant difference between the groups.\n"
     ]
    }
   ],
   "source": [
    "# Sample data for each group (replace this with your own data)\n",
    "riav3 = riav[riav['Zona de Produção'] == 'RIAV3']['Pb (mg/kg)'].values\n",
    "riav4 = riav[riav['Zona de Produção'] == 'RIAV4']['Pb (mg/kg)'].values\n",
    "riav2 = riav[riav['Zona de Produção'] == 'RIAV2']['Pb (mg/kg)'].values\n",
    "riav1 = riav[riav['Zona de Produção'] == 'RIAV1']['Pb (mg/kg)'].values\n",
    "\n",
    "# Perform Kruskal-Wallis test\n",
    "statistic, p_value = stats.kruskal(riav3, riav4, riav2, riav1)\n",
    "\n",
    "# Output the results\n",
    "print(\"Kruskal-Wallis Test Statistic:\", statistic)\n",
    "print(\"P-value:\", p_value)\n",
    "\n",
    "# Check the significance level (e.g., alpha = 0.05)\n",
    "alpha = 0.05\n",
    "if p_value < alpha:\n",
    "    print(\"Reject the null hypothesis. There is a significant difference between the groups.\")\n",
    "else:\n",
    "    print(\"Fail to reject the null hypothesis. There is no significant difference between the groups.\")"
   ]
  },
  {
   "cell_type": "markdown",
   "id": "482382c5",
   "metadata": {},
   "source": [
    "## [Pb] OLH"
   ]
  },
  {
   "cell_type": "code",
   "execution_count": 9,
   "id": "dc161762",
   "metadata": {},
   "outputs": [
    {
     "data": {
      "text/plain": [
       "OLH2    47\n",
       "OLH5    41\n",
       "OLH4    38\n",
       "OLH1    29\n",
       "OLH3    18\n",
       "Name: Zona de Produção, dtype: int64"
      ]
     },
     "execution_count": 9,
     "metadata": {},
     "output_type": "execute_result"
    }
   ],
   "source": [
    "olh = df[df['Zona de Produção'].str.contains('OLH')]\n",
    "olh['Zona de Produção'].value_counts()"
   ]
  },
  {
   "cell_type": "markdown",
   "id": "038dfb9b",
   "metadata": {},
   "source": [
    "__Kruskal-Waliis__"
   ]
  },
  {
   "cell_type": "code",
   "execution_count": 12,
   "id": "430ebbfe",
   "metadata": {},
   "outputs": [
    {
     "name": "stdout",
     "output_type": "stream",
     "text": [
      "Kruskal-Wallis Test Statistic: 7.587024505527076\n",
      "P-value: 0.10793254146124479\n",
      "Fail to reject the null hypothesis. There is no significant difference between the groups.\n"
     ]
    }
   ],
   "source": [
    "# Sample data for each group (replace this with your own data)\n",
    "olh2 = olh[olh['Zona de Produção'] == 'OLH2']['Pb (mg/kg)'].values\n",
    "olh5 = olh[olh['Zona de Produção'] == 'OLH5']['Pb (mg/kg)'].values\n",
    "olh4 = olh[olh['Zona de Produção'] == 'OLH4']['Pb (mg/kg)'].values\n",
    "olh1 = olh[olh['Zona de Produção'] == 'OLH1']['Pb (mg/kg)'].values\n",
    "olh3 = olh[olh['Zona de Produção'] == 'OLH3']['Pb (mg/kg)'].values\n",
    "\n",
    "# Perform Kruskal-Wallis test\n",
    "statistic, p_value = stats.kruskal(olh2, olh5, olh4, olh1,olh3)\n",
    "\n",
    "# Output the results\n",
    "print(\"Kruskal-Wallis Test Statistic:\", statistic)\n",
    "print(\"P-value:\", p_value)\n",
    "\n",
    "# Check the significance level (e.g., alpha = 0.05)\n",
    "alpha = 0.05\n",
    "if p_value < alpha:\n",
    "    print(\"Reject the null hypothesis. There is a significant difference between the groups.\")\n",
    "else:\n",
    "    print(\"Fail to reject the null hypothesis. There is no significant difference between the groups.\")"
   ]
  },
  {
   "cell_type": "markdown",
   "id": "8d436c48",
   "metadata": {},
   "source": [
    "## [Pb] ESD"
   ]
  },
  {
   "cell_type": "code",
   "execution_count": 5,
   "id": "17ff81f3",
   "metadata": {},
   "outputs": [
    {
     "data": {
      "text/plain": [
       "ESD1    128\n",
       "ESD2     87\n",
       "Name: Zona de Produção, dtype: int64"
      ]
     },
     "execution_count": 5,
     "metadata": {},
     "output_type": "execute_result"
    }
   ],
   "source": [
    "esd = df[df['Zona de Produção'].str.contains('ESD')]\n",
    "esd['Zona de Produção'].value_counts()"
   ]
  },
  {
   "cell_type": "code",
   "execution_count": 4,
   "id": "12613418",
   "metadata": {},
   "outputs": [
    {
     "data": {
      "image/png": "[encoded data removed]",
      "text/plain": [
       "<Figure size 640x480 with 1 Axes>"
      ]
     },
     "metadata": {},
     "output_type": "display_data"
    }
   ],
   "source": [
    "sns.boxplot(esd['Zona de Produção'],esd['Pb (mg/kg)'])\n",
    "plt.title('[Pb] by Production Area ')\n",
    "plt.xticks(fontsize=8,rotation=15)\n",
    "plt.show()"
   ]
  },
  {
   "cell_type": "markdown",
   "id": "87144d87",
   "metadata": {},
   "source": [
    "__Perform Mann-Whitney U test__"
   ]
  },
  {
   "cell_type": "code",
   "execution_count": 5,
   "id": "4ab9bc69",
   "metadata": {},
   "outputs": [
    {
     "name": "stdout",
     "output_type": "stream",
     "text": [
      "Mann-Whitney U statistic: 4185.0\n",
      "P-value: 0.001996612611183601\n",
      "Reject the null hypothesis: There is a significant difference between the groups.\n"
     ]
    }
   ],
   "source": [
    "# Sample data for two independent samples\n",
    "esd1 = esd[esd['Zona de Produção']=='ESD1']['Pb (mg/kg)'].values\n",
    "esd2 = esd[esd['Zona de Produção']=='ESD2']['Pb (mg/kg)'].values\n",
    "\n",
    "# Perform the Mann-Whitney U test\n",
    "statistic, p_value = mannwhitneyu(esd1, esd2)\n",
    "\n",
    "# Print the results\n",
    "print(\"Mann-Whitney U statistic:\", statistic)\n",
    "print(\"P-value:\", p_value)\n",
    "\n",
    "# Determine the significance level\n",
    "alpha = 0.05\n",
    "if p_value < alpha:\n",
    "    print(\"Reject the null hypothesis: There is a significant difference between the groups.\")\n",
    "else:\n",
    "    print(\"Fail to reject the null hypothesis: There is no significant difference between the groups.\")"
   ]
  },
  {
   "cell_type": "markdown",
   "id": "fbb0e44b",
   "metadata": {},
   "source": [
    "## [Pb] L7"
   ]
  },
  {
   "cell_type": "code",
   "execution_count": 14,
   "id": "e3d495e1",
   "metadata": {},
   "outputs": [
    {
     "data": {
      "text/plain": [
       "L7c2    36\n",
       "L7c1    19\n",
       "L7a     15\n",
       "L7b     14\n",
       "Name: Zona de Produção, dtype: int64"
      ]
     },
     "execution_count": 14,
     "metadata": {},
     "output_type": "execute_result"
    }
   ],
   "source": [
    "l7 = df[df['Zona de Produção'].str.contains('L7')]\n",
    "l7['Zona de Produção'].value_counts()"
   ]
  },
  {
   "cell_type": "markdown",
   "id": "0f422a7d",
   "metadata": {},
   "source": [
    "__Kruskal-Wallis__"
   ]
  },
  {
   "cell_type": "code",
   "execution_count": 15,
   "id": "6640cf8e",
   "metadata": {},
   "outputs": [
    {
     "name": "stdout",
     "output_type": "stream",
     "text": [
      "Kruskal-Wallis Test Statistic: 7.9156275655921995\n",
      "P-value: 0.047787995508503024\n",
      "Reject the null hypothesis. There is a significant difference between the groups.\n"
     ]
    }
   ],
   "source": [
    "# Sample data for each group (replace this with your own data)\n",
    "l7c2 = l7[l7['Zona de Produção']=='L7c2']['Pb (mg/kg)'].values\n",
    "l7c1 = l7[l7['Zona de Produção']=='L7c1']['Pb (mg/kg)'].values\n",
    "l7a = l7[l7['Zona de Produção']=='L7a']['Pb (mg/kg)'].values\n",
    "l7b = l7[l7['Zona de Produção']=='L7b']['Pb (mg/kg)'].values\n",
    "\n",
    "# Perform Kruskal-Wallis test\n",
    "statistic, p_value = stats.kruskal(l7c2, l7c1, l7a, l7b)\n",
    "\n",
    "# Output the results\n",
    "print(\"Kruskal-Wallis Test Statistic:\", statistic)\n",
    "print(\"P-value:\", p_value)\n",
    "\n",
    "# Check the significance level (e.g., alpha = 0.05)\n",
    "alpha = 0.05\n",
    "if p_value < alpha:\n",
    "    print(\"Reject the null hypothesis. There is a significant difference between the groups.\")\n",
    "else:\n",
    "    print(\"Fail to reject the null hypothesis. There is no significant difference between the groups.\")"
   ]
  },
  {
   "cell_type": "markdown",
   "id": "78c9d559",
   "metadata": {},
   "source": [
    "__Perform Multiole Mann-Whitney U test__"
   ]
  },
  {
   "cell_type": "code",
   "execution_count": 18,
   "id": "84a9330d",
   "metadata": {},
   "outputs": [
    {
     "name": "stdout",
     "output_type": "stream",
     "text": [
      "Mann-Whitney U Test:\n",
      "Comparison between Group L7c2 and Group L7c1\n",
      "Statistic: 286.0\n",
      "p-value: 0.32444456895797946\n",
      "Fail to reject the null hypothesis: There is no significant difference between the groups.\n",
      "\n",
      "Mann-Whitney U Test:\n",
      "Comparison between Group L7c2 and Group L7a\n",
      "Statistic: 178.5\n",
      "p-value: 0.059257398287675185\n",
      "Fail to reject the null hypothesis: There is no significant difference between the groups.\n",
      "\n",
      "Mann-Whitney U Test:\n",
      "Comparison between Group L7c2 and Group L7b\n",
      "Statistic: 279.5\n",
      "p-value: 0.558499663677611\n",
      "Fail to reject the null hypothesis: There is no significant difference between the groups.\n",
      "\n",
      "Mann-Whitney U Test:\n",
      "Comparison between Group L7c1 and Group L7a\n",
      "Statistic: 97.5\n",
      "p-value: 0.12154697256215372\n",
      "Fail to reject the null hypothesis: There is no significant difference between the groups.\n",
      "\n",
      "Mann-Whitney U Test:\n",
      "Comparison between Group L7c1 and Group L7b\n",
      "Statistic: 187.5\n",
      "p-value: 0.04776620089949403\n",
      "Reject the null hypothesis: There is a significant difference between the groups.\n",
      "\n",
      "Mann-Whitney U Test:\n",
      "Comparison between Group L7a and Group L7b\n",
      "Statistic: 166.0\n",
      "p-value: 0.008176966571384668\n",
      "Reject the null hypothesis: There is a significant difference between the groups.\n",
      "\n"
     ]
    }
   ],
   "source": [
    "# Data for each group\n",
    "group_data = {\n",
    "    'L7c2' : l7[l7['Zona de Produção']=='L7c2']['Pb (mg/kg)'].values,\n",
    "    'L7c1' : l7[l7['Zona de Produção']=='L7c1']['Pb (mg/kg)'].values,\n",
    "    'L7a' : l7[l7['Zona de Produção']=='L7a']['Pb (mg/kg)'].values,\n",
    "    'L7b' : l7[l7['Zona de Produção']=='L7b']['Pb (mg/kg)'].values}\n",
    "\n",
    "# List of all group names\n",
    "all_groups = list(group_data.keys())\n",
    "\n",
    "# Perform pairwise Mann-Whitney U tests\n",
    "for group_pair in combinations(all_groups, 2):\n",
    "    group1_name, group2_name = group_pair\n",
    "    group1_data, group2_data = group_data[group1_name], group_data[group2_name]\n",
    "\n",
    "    statistic, p_value = mannwhitneyu(group1_data, group2_data, alternative='two-sided')\n",
    "\n",
    "    # Output the results for each pairwise comparison\n",
    "    print(\"Mann-Whitney U Test:\")\n",
    "    print(f\"Comparison between Group {group1_name} and Group {group2_name}\")\n",
    "    print(\"Statistic:\", statistic)\n",
    "    print(\"p-value:\", p_value)\n",
    "\n",
    "    # Check for significance at a specific alpha level (e.g., 0.05)\n",
    "    alpha = 0.05\n",
    "    if p_value < alpha:\n",
    "        print(\"Reject the null hypothesis: There is a significant difference between the groups.\")\n",
    "    else:\n",
    "        print(\"Fail to reject the null hypothesis: There is no significant difference between the groups.\")\n",
    "    print()\n"
   ]
  },
  {
   "cell_type": "code",
   "execution_count": null,
   "id": "a7594eaf",
   "metadata": {},
   "outputs": [],
   "source": []
  },
  {
   "cell_type": "code",
   "execution_count": null,
   "id": "a8e598ac",
   "metadata": {},
   "outputs": [],
   "source": []
  },
  {
   "cell_type": "code",
   "execution_count": null,
   "id": "5a62e174",
   "metadata": {},
   "outputs": [],
   "source": []
  }
 ],
 "metadata": {
  "kernelspec": {
   "display_name": "Python 3 (ipykernel)",
   "language": "python",
   "name": "python3"
  },
  "language_info": {
   "codemirror_mode": {
    "name": "ipython",
    "version": 3
   },
   "file_extension": ".py",
   "mimetype": "text/x-python",
   "name": "python",
   "nbconvert_exporter": "python",
   "pygments_lexer": "ipython3",
   "version": "3.9.13"
  }
 },
 "nbformat": 4,
 "nbformat_minor": 5
}
